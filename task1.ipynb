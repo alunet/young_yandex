{
  "nbformat": 4,
  "nbformat_minor": 0,
  "metadata": {
    "colab": {
      "name": "task1.ipynb",
      "provenance": [],
      "collapsed_sections": []
    },
    "kernelspec": {
      "name": "python3",
      "display_name": "Python 3"
    },
    "language_info": {
      "name": "python"
    }
  },
  "cells": [
    {
      "cell_type": "markdown",
      "metadata": {
        "id": "FAxYQjSzvFNC"
      },
      "source": [
        "Предположим, что асессор за 30 секунд своего рабочего времени получает N рублей.\n",
        "\n",
        "Какую оплату вы считаете справедливой для выполнения асессором одного микрозадания из этого файла? Опишите подробно все этапы вашего решения."
      ]
    },
    {
      "cell_type": "code",
      "metadata": {
        "id": "48aB2dkuvIGx"
      },
      "source": [
        "#импорт библиотек\n",
        "import numpy as np \n",
        "import pandas as pd\n",
        "from datetime import datetime"
      ],
      "execution_count": 1,
      "outputs": []
    },
    {
      "cell_type": "code",
      "metadata": {
        "colab": {
          "base_uri": "https://localhost:8080/",
          "height": 359
        },
        "id": "0dtgEomYx2bF",
        "outputId": "57f1f69d-46a9-4339-ca91-dc24b646e518"
      },
      "source": [
        "#считываем файл и сохраняем в переменную data\n",
        "path = 'E:\\task1.txt'# путь к папке на локальном компьютере\n",
        "data = pd.read_csv(path, sep='\\t')\n",
        "data.head(10)"
      ],
      "execution_count": 2,
      "outputs": [
        {
          "output_type": "execute_result",
          "data": {
            "text/html": [
              "<div>\n",
              "<style scoped>\n",
              "    .dataframe tbody tr th:only-of-type {\n",
              "        vertical-align: middle;\n",
              "    }\n",
              "\n",
              "    .dataframe tbody tr th {\n",
              "        vertical-align: top;\n",
              "    }\n",
              "\n",
              "    .dataframe thead th {\n",
              "        text-align: right;\n",
              "    }\n",
              "</style>\n",
              "<table border=\"1\" class=\"dataframe\">\n",
              "  <thead>\n",
              "    <tr style=\"text-align: right;\">\n",
              "      <th></th>\n",
              "      <th>login</th>\n",
              "      <th>tid</th>\n",
              "      <th>Microtasks</th>\n",
              "      <th>assigned_ts</th>\n",
              "      <th>closed_ts</th>\n",
              "    </tr>\n",
              "  </thead>\n",
              "  <tbody>\n",
              "    <tr>\n",
              "      <th>0</th>\n",
              "      <td>login0</td>\n",
              "      <td>190563850.0</td>\n",
              "      <td>4.0</td>\n",
              "      <td>2017-04-20 12:09:39</td>\n",
              "      <td>2017-04-20 13:13:01</td>\n",
              "    </tr>\n",
              "    <tr>\n",
              "      <th>1</th>\n",
              "      <td>login0</td>\n",
              "      <td>190561754.0</td>\n",
              "      <td>1.0</td>\n",
              "      <td>2017-04-20 12:10:30</td>\n",
              "      <td>2017-04-20 12:28:29</td>\n",
              "    </tr>\n",
              "    <tr>\n",
              "      <th>2</th>\n",
              "      <td>login0</td>\n",
              "      <td>190565906.0</td>\n",
              "      <td>4.0</td>\n",
              "      <td>2017-04-20 12:21:31</td>\n",
              "      <td>2017-04-20 13:30:10</td>\n",
              "    </tr>\n",
              "    <tr>\n",
              "      <th>3</th>\n",
              "      <td>login0</td>\n",
              "      <td>190560246.0</td>\n",
              "      <td>1.0</td>\n",
              "      <td>2017-04-20 12:28:30</td>\n",
              "      <td>2017-04-20 13:13:56</td>\n",
              "    </tr>\n",
              "    <tr>\n",
              "      <th>4</th>\n",
              "      <td>login0</td>\n",
              "      <td>190562168.0</td>\n",
              "      <td>2.0</td>\n",
              "      <td>2017-04-20 12:28:42</td>\n",
              "      <td>2017-04-20 13:14:50</td>\n",
              "    </tr>\n",
              "    <tr>\n",
              "      <th>5</th>\n",
              "      <td>login0</td>\n",
              "      <td>190560934.0</td>\n",
              "      <td>1.0</td>\n",
              "      <td>2017-04-20 12:28:53</td>\n",
              "      <td>2017-04-20 13:15:23</td>\n",
              "    </tr>\n",
              "    <tr>\n",
              "      <th>6</th>\n",
              "      <td>login0</td>\n",
              "      <td>190563590.0</td>\n",
              "      <td>1.0</td>\n",
              "      <td>2017-04-20 12:29:06</td>\n",
              "      <td>2017-04-20 13:15:36</td>\n",
              "    </tr>\n",
              "    <tr>\n",
              "      <th>7</th>\n",
              "      <td>login0</td>\n",
              "      <td>190565094.0</td>\n",
              "      <td>1.0</td>\n",
              "      <td>2017-04-20 13:47:43</td>\n",
              "      <td>2017-04-20 14:19:46</td>\n",
              "    </tr>\n",
              "    <tr>\n",
              "      <th>8</th>\n",
              "      <td>login0</td>\n",
              "      <td>190560460.0</td>\n",
              "      <td>1.0</td>\n",
              "      <td>2017-04-20 14:02:13</td>\n",
              "      <td>2017-04-20 14:22:22</td>\n",
              "    </tr>\n",
              "    <tr>\n",
              "      <th>9</th>\n",
              "      <td>login0</td>\n",
              "      <td>190662496.0</td>\n",
              "      <td>5.0</td>\n",
              "      <td>2017-04-20 15:22:24</td>\n",
              "      <td>2017-04-20 17:22:10</td>\n",
              "    </tr>\n",
              "  </tbody>\n",
              "</table>\n",
              "</div>"
            ],
            "text/plain": [
              "    login          tid  Microtasks          assigned_ts            closed_ts\n",
              "0  login0  190563850.0         4.0  2017-04-20 12:09:39  2017-04-20 13:13:01\n",
              "1  login0  190561754.0         1.0  2017-04-20 12:10:30  2017-04-20 12:28:29\n",
              "2  login0  190565906.0         4.0  2017-04-20 12:21:31  2017-04-20 13:30:10\n",
              "3  login0  190560246.0         1.0  2017-04-20 12:28:30  2017-04-20 13:13:56\n",
              "4  login0  190562168.0         2.0  2017-04-20 12:28:42  2017-04-20 13:14:50\n",
              "5  login0  190560934.0         1.0  2017-04-20 12:28:53  2017-04-20 13:15:23\n",
              "6  login0  190563590.0         1.0  2017-04-20 12:29:06  2017-04-20 13:15:36\n",
              "7  login0  190565094.0         1.0  2017-04-20 13:47:43  2017-04-20 14:19:46\n",
              "8  login0  190560460.0         1.0  2017-04-20 14:02:13  2017-04-20 14:22:22\n",
              "9  login0  190662496.0         5.0  2017-04-20 15:22:24  2017-04-20 17:22:10"
            ]
          },
          "metadata": {
            "tags": []
          },
          "execution_count": 2
        }
      ]
    },
    {
      "cell_type": "code",
      "metadata": {
        "colab": {
          "base_uri": "https://localhost:8080/"
        },
        "id": "lpKZhHk_ykZJ",
        "outputId": "9d0900ab-48cc-4e89-a54e-2296e260adce"
      },
      "source": [
        "#Общая информация о данных таблицы data\n",
        "data.info()"
      ],
      "execution_count": 3,
      "outputs": [
        {
          "output_type": "stream",
          "text": [
            "<class 'pandas.core.frame.DataFrame'>\n",
            "RangeIndex: 701827 entries, 0 to 701826\n",
            "Data columns (total 5 columns):\n",
            " #   Column       Non-Null Count   Dtype  \n",
            "---  ------       --------------   -----  \n",
            " 0   login        701827 non-null  object \n",
            " 1   tid          701827 non-null  float64\n",
            " 2   Microtasks   701827 non-null  float64\n",
            " 3   assigned_ts  701827 non-null  object \n",
            " 4   closed_ts    701827 non-null  object \n",
            "dtypes: float64(2), object(3)\n",
            "memory usage: 26.8+ MB\n"
          ],
          "name": "stdout"
        }
      ]
    },
    {
      "cell_type": "markdown",
      "metadata": {
        "id": "y9om0_nc0RnY"
      },
      "source": [
        "Рассмотрим полученную информацию подробнее.\n",
        "\n",
        "Пропущенных значений нет.\n",
        "\n",
        "Всего в таблице 5 столбцов, тип данных у большинства - object.\n",
        "\n",
        "\n",
        "Подробно разберём, какие в data столбцы и какую информацию они содержат:\n",
        "\n",
        "login — логин асессора; \n",
        "\n",
        "tid — id оцениваемого задания (task id); \n",
        "\n",
        "Microtasks – количество микрозаданий в одном задании; \n",
        "\n",
        "assigned_ts — время резервирования системой задания для асессора; \n",
        "\n",
        "closed_ts — точное время завершения работы над заданием"
      ]
    },
    {
      "cell_type": "markdown",
      "metadata": {
        "id": "HaqhuItk2cmX"
      },
      "source": [
        "поменяем тип Microtasks и tid на 'int', т.к. это целочисленные значения, а при выгрузке датасета они float"
      ]
    },
    {
      "cell_type": "code",
      "metadata": {
        "id": "egzzLbMp2xle"
      },
      "source": [
        "data['tid'] = data['tid'].astype('int')\n",
        "data['Microtasks'] = data['Microtasks'].astype('int')"
      ],
      "execution_count": 4,
      "outputs": []
    },
    {
      "cell_type": "markdown",
      "metadata": {
        "id": "q33GuGPI5ihl"
      },
      "source": [
        "переведем столбцы с датой в нужный формат и добавим столбец с суммарным количеством потраченного на задание времени (в секундах)"
      ]
    },
    {
      "cell_type": "code",
      "metadata": {
        "colab": {
          "base_uri": "https://localhost:8080/",
          "height": 359
        },
        "id": "3yrGrZU_3bHY",
        "outputId": "a27770fd-6191-4dbd-a660-6773cf1c2671"
      },
      "source": [
        "data['assigned_ts'] = pd.to_datetime(data['assigned_ts'])\n",
        "data['closed_ts'] = pd.to_datetime(data['closed_ts'])\n",
        "data['time_for_tasks'] = (data['closed_ts'] - data['assigned_ts']).dt.total_seconds()\n",
        "data['time_for_one_task'] = data['time_for_tasks']/data['Microtasks']\n",
        "data.head(10)"
      ],
      "execution_count": 5,
      "outputs": [
        {
          "output_type": "execute_result",
          "data": {
            "text/html": [
              "<div>\n",
              "<style scoped>\n",
              "    .dataframe tbody tr th:only-of-type {\n",
              "        vertical-align: middle;\n",
              "    }\n",
              "\n",
              "    .dataframe tbody tr th {\n",
              "        vertical-align: top;\n",
              "    }\n",
              "\n",
              "    .dataframe thead th {\n",
              "        text-align: right;\n",
              "    }\n",
              "</style>\n",
              "<table border=\"1\" class=\"dataframe\">\n",
              "  <thead>\n",
              "    <tr style=\"text-align: right;\">\n",
              "      <th></th>\n",
              "      <th>login</th>\n",
              "      <th>tid</th>\n",
              "      <th>Microtasks</th>\n",
              "      <th>assigned_ts</th>\n",
              "      <th>closed_ts</th>\n",
              "      <th>time_for_tasks</th>\n",
              "      <th>time_for_one_task</th>\n",
              "    </tr>\n",
              "  </thead>\n",
              "  <tbody>\n",
              "    <tr>\n",
              "      <th>0</th>\n",
              "      <td>login0</td>\n",
              "      <td>190563850</td>\n",
              "      <td>4</td>\n",
              "      <td>2017-04-20 12:09:39</td>\n",
              "      <td>2017-04-20 13:13:01</td>\n",
              "      <td>3802.0</td>\n",
              "      <td>950.50</td>\n",
              "    </tr>\n",
              "    <tr>\n",
              "      <th>1</th>\n",
              "      <td>login0</td>\n",
              "      <td>190561754</td>\n",
              "      <td>1</td>\n",
              "      <td>2017-04-20 12:10:30</td>\n",
              "      <td>2017-04-20 12:28:29</td>\n",
              "      <td>1079.0</td>\n",
              "      <td>1079.00</td>\n",
              "    </tr>\n",
              "    <tr>\n",
              "      <th>2</th>\n",
              "      <td>login0</td>\n",
              "      <td>190565906</td>\n",
              "      <td>4</td>\n",
              "      <td>2017-04-20 12:21:31</td>\n",
              "      <td>2017-04-20 13:30:10</td>\n",
              "      <td>4119.0</td>\n",
              "      <td>1029.75</td>\n",
              "    </tr>\n",
              "    <tr>\n",
              "      <th>3</th>\n",
              "      <td>login0</td>\n",
              "      <td>190560246</td>\n",
              "      <td>1</td>\n",
              "      <td>2017-04-20 12:28:30</td>\n",
              "      <td>2017-04-20 13:13:56</td>\n",
              "      <td>2726.0</td>\n",
              "      <td>2726.00</td>\n",
              "    </tr>\n",
              "    <tr>\n",
              "      <th>4</th>\n",
              "      <td>login0</td>\n",
              "      <td>190562168</td>\n",
              "      <td>2</td>\n",
              "      <td>2017-04-20 12:28:42</td>\n",
              "      <td>2017-04-20 13:14:50</td>\n",
              "      <td>2768.0</td>\n",
              "      <td>1384.00</td>\n",
              "    </tr>\n",
              "    <tr>\n",
              "      <th>5</th>\n",
              "      <td>login0</td>\n",
              "      <td>190560934</td>\n",
              "      <td>1</td>\n",
              "      <td>2017-04-20 12:28:53</td>\n",
              "      <td>2017-04-20 13:15:23</td>\n",
              "      <td>2790.0</td>\n",
              "      <td>2790.00</td>\n",
              "    </tr>\n",
              "    <tr>\n",
              "      <th>6</th>\n",
              "      <td>login0</td>\n",
              "      <td>190563590</td>\n",
              "      <td>1</td>\n",
              "      <td>2017-04-20 12:29:06</td>\n",
              "      <td>2017-04-20 13:15:36</td>\n",
              "      <td>2790.0</td>\n",
              "      <td>2790.00</td>\n",
              "    </tr>\n",
              "    <tr>\n",
              "      <th>7</th>\n",
              "      <td>login0</td>\n",
              "      <td>190565094</td>\n",
              "      <td>1</td>\n",
              "      <td>2017-04-20 13:47:43</td>\n",
              "      <td>2017-04-20 14:19:46</td>\n",
              "      <td>1923.0</td>\n",
              "      <td>1923.00</td>\n",
              "    </tr>\n",
              "    <tr>\n",
              "      <th>8</th>\n",
              "      <td>login0</td>\n",
              "      <td>190560460</td>\n",
              "      <td>1</td>\n",
              "      <td>2017-04-20 14:02:13</td>\n",
              "      <td>2017-04-20 14:22:22</td>\n",
              "      <td>1209.0</td>\n",
              "      <td>1209.00</td>\n",
              "    </tr>\n",
              "    <tr>\n",
              "      <th>9</th>\n",
              "      <td>login0</td>\n",
              "      <td>190662496</td>\n",
              "      <td>5</td>\n",
              "      <td>2017-04-20 15:22:24</td>\n",
              "      <td>2017-04-20 17:22:10</td>\n",
              "      <td>7186.0</td>\n",
              "      <td>1437.20</td>\n",
              "    </tr>\n",
              "  </tbody>\n",
              "</table>\n",
              "</div>"
            ],
            "text/plain": [
              "    login        tid  ...  time_for_tasks time_for_one_task\n",
              "0  login0  190563850  ...          3802.0            950.50\n",
              "1  login0  190561754  ...          1079.0           1079.00\n",
              "2  login0  190565906  ...          4119.0           1029.75\n",
              "3  login0  190560246  ...          2726.0           2726.00\n",
              "4  login0  190562168  ...          2768.0           1384.00\n",
              "5  login0  190560934  ...          2790.0           2790.00\n",
              "6  login0  190563590  ...          2790.0           2790.00\n",
              "7  login0  190565094  ...          1923.0           1923.00\n",
              "8  login0  190560460  ...          1209.0           1209.00\n",
              "9  login0  190662496  ...          7186.0           1437.20\n",
              "\n",
              "[10 rows x 7 columns]"
            ]
          },
          "metadata": {
            "tags": []
          },
          "execution_count": 5
        }
      ]
    },
    {
      "cell_type": "code",
      "metadata": {
        "colab": {
          "base_uri": "https://localhost:8080/"
        },
        "id": "VNBJT_rsDA6i",
        "outputId": "0350bff6-8ede-4093-f1c8-84ab88ea99a5"
      },
      "source": [
        "#Посмотрим, есть ли одинаковые задания у разных асессоров\n",
        "len(data['tid'].unique())"
      ],
      "execution_count": 6,
      "outputs": [
        {
          "output_type": "execute_result",
          "data": {
            "text/plain": [
              "635044"
            ]
          },
          "metadata": {
            "tags": []
          },
          "execution_count": 6
        }
      ]
    },
    {
      "cell_type": "code",
      "metadata": {
        "colab": {
          "base_uri": "https://localhost:8080/"
        },
        "id": "qDcSylJhH6zI",
        "outputId": "2fc93d5b-c75d-470b-8182-a29968a87cf7"
      },
      "source": [
        "#Найдем количество асессоров, представленных в данном файле\n",
        "len(data['login'].unique())"
      ],
      "execution_count": 7,
      "outputs": [
        {
          "output_type": "execute_result",
          "data": {
            "text/plain": [
              "767"
            ]
          },
          "metadata": {
            "tags": []
          },
          "execution_count": 7
        }
      ]
    },
    {
      "cell_type": "code",
      "metadata": {
        "colab": {
          "base_uri": "https://localhost:8080/"
        },
        "id": "plPiHEDs6Ie1",
        "outputId": "2d0e5fb4-c42c-414b-cb01-63cd2557a2ed"
      },
      "source": [
        "tid_counts = data.tid.value_counts()\n",
        "tid_counts.head(10)"
      ],
      "execution_count": 8,
      "outputs": [
        {
          "output_type": "execute_result",
          "data": {
            "text/plain": [
              "171470568    134\n",
              "188676794    118\n",
              "195476986     96\n",
              "196322338     86\n",
              "171266128     85\n",
              "184144118     81\n",
              "184144104     80\n",
              "184144114     80\n",
              "184144116     80\n",
              "184144100     80\n",
              "Name: tid, dtype: int64"
            ]
          },
          "metadata": {
            "tags": []
          },
          "execution_count": 8
        }
      ]
    },
    {
      "cell_type": "markdown",
      "metadata": {
        "id": "-voytFUF6PVr"
      },
      "source": [
        "Видим, что задание 171470568 выполнило наибольшее число пользователей. \n",
        "\n",
        "Чтобы избежать переплаты за время, которое пользователь мог не тратить на выполнение задания после его назначения, возьмем по каждому заданию минимальное время выполнения среди всех асессоров.\n",
        "\n",
        "Посмотрим, сколько заданий выполнялись более чем 1 асессором:"
      ]
    },
    {
      "cell_type": "code",
      "metadata": {
        "colab": {
          "base_uri": "https://localhost:8080/"
        },
        "id": "xJCJtOSg6NmF",
        "outputId": "c228d67c-25ab-4dc4-cb9b-060546db602a"
      },
      "source": [
        "sum(data.tid.value_counts() > 1)"
      ],
      "execution_count": 9,
      "outputs": [
        {
          "output_type": "execute_result",
          "data": {
            "text/plain": [
              "29627"
            ]
          },
          "metadata": {
            "tags": []
          },
          "execution_count": 9
        }
      ]
    },
    {
      "cell_type": "code",
      "metadata": {
        "colab": {
          "base_uri": "https://localhost:8080/",
          "height": 390
        },
        "id": "iu6-JvMz7yL-",
        "outputId": "c07e61fa-f055-431f-82f9-01b0d7bdda33"
      },
      "source": [
        "data_pivot = data.pivot_table(columns = 'tid', values = 'time_for_tasks', aggfunc=np.min)\n",
        "data_pivot = data_pivot.transpose()\n",
        "data_pivot.head(10)"
      ],
      "execution_count": 10,
      "outputs": [
        {
          "output_type": "execute_result",
          "data": {
            "text/html": [
              "<div>\n",
              "<style scoped>\n",
              "    .dataframe tbody tr th:only-of-type {\n",
              "        vertical-align: middle;\n",
              "    }\n",
              "\n",
              "    .dataframe tbody tr th {\n",
              "        vertical-align: top;\n",
              "    }\n",
              "\n",
              "    .dataframe thead th {\n",
              "        text-align: right;\n",
              "    }\n",
              "</style>\n",
              "<table border=\"1\" class=\"dataframe\">\n",
              "  <thead>\n",
              "    <tr style=\"text-align: right;\">\n",
              "      <th></th>\n",
              "      <th>time_for_tasks</th>\n",
              "    </tr>\n",
              "    <tr>\n",
              "      <th>tid</th>\n",
              "      <th></th>\n",
              "    </tr>\n",
              "  </thead>\n",
              "  <tbody>\n",
              "    <tr>\n",
              "      <th>113958641</th>\n",
              "      <td>836.0</td>\n",
              "    </tr>\n",
              "    <tr>\n",
              "      <th>113958643</th>\n",
              "      <td>107.0</td>\n",
              "    </tr>\n",
              "    <tr>\n",
              "      <th>113958647</th>\n",
              "      <td>60.0</td>\n",
              "    </tr>\n",
              "    <tr>\n",
              "      <th>113958649</th>\n",
              "      <td>156.0</td>\n",
              "    </tr>\n",
              "    <tr>\n",
              "      <th>113958653</th>\n",
              "      <td>699.0</td>\n",
              "    </tr>\n",
              "    <tr>\n",
              "      <th>113958655</th>\n",
              "      <td>362.0</td>\n",
              "    </tr>\n",
              "    <tr>\n",
              "      <th>113958657</th>\n",
              "      <td>574.0</td>\n",
              "    </tr>\n",
              "    <tr>\n",
              "      <th>113958659</th>\n",
              "      <td>58.0</td>\n",
              "    </tr>\n",
              "    <tr>\n",
              "      <th>113958661</th>\n",
              "      <td>143.0</td>\n",
              "    </tr>\n",
              "    <tr>\n",
              "      <th>113958663</th>\n",
              "      <td>14442.0</td>\n",
              "    </tr>\n",
              "  </tbody>\n",
              "</table>\n",
              "</div>"
            ],
            "text/plain": [
              "           time_for_tasks\n",
              "tid                      \n",
              "113958641           836.0\n",
              "113958643           107.0\n",
              "113958647            60.0\n",
              "113958649           156.0\n",
              "113958653           699.0\n",
              "113958655           362.0\n",
              "113958657           574.0\n",
              "113958659            58.0\n",
              "113958661           143.0\n",
              "113958663         14442.0"
            ]
          },
          "metadata": {
            "tags": []
          },
          "execution_count": 10
        }
      ]
    },
    {
      "cell_type": "code",
      "metadata": {
        "colab": {
          "base_uri": "https://localhost:8080/",
          "height": 359
        },
        "id": "RSk9yu8MB_Za",
        "outputId": "1df32360-b3e1-4d85-879c-51ab002770fb"
      },
      "source": [
        "#Объединим две таблицы по значению tid\n",
        "res = data.merge(data_pivot, on=[\"tid\"])\n",
        "res.head(10)"
      ],
      "execution_count": 11,
      "outputs": [
        {
          "output_type": "execute_result",
          "data": {
            "text/html": [
              "<div>\n",
              "<style scoped>\n",
              "    .dataframe tbody tr th:only-of-type {\n",
              "        vertical-align: middle;\n",
              "    }\n",
              "\n",
              "    .dataframe tbody tr th {\n",
              "        vertical-align: top;\n",
              "    }\n",
              "\n",
              "    .dataframe thead th {\n",
              "        text-align: right;\n",
              "    }\n",
              "</style>\n",
              "<table border=\"1\" class=\"dataframe\">\n",
              "  <thead>\n",
              "    <tr style=\"text-align: right;\">\n",
              "      <th></th>\n",
              "      <th>login</th>\n",
              "      <th>tid</th>\n",
              "      <th>Microtasks</th>\n",
              "      <th>assigned_ts</th>\n",
              "      <th>closed_ts</th>\n",
              "      <th>time_for_tasks_x</th>\n",
              "      <th>time_for_one_task</th>\n",
              "      <th>time_for_tasks_y</th>\n",
              "    </tr>\n",
              "  </thead>\n",
              "  <tbody>\n",
              "    <tr>\n",
              "      <th>0</th>\n",
              "      <td>login0</td>\n",
              "      <td>190563850</td>\n",
              "      <td>4</td>\n",
              "      <td>2017-04-20 12:09:39</td>\n",
              "      <td>2017-04-20 13:13:01</td>\n",
              "      <td>3802.0</td>\n",
              "      <td>950.50</td>\n",
              "      <td>3802.0</td>\n",
              "    </tr>\n",
              "    <tr>\n",
              "      <th>1</th>\n",
              "      <td>login0</td>\n",
              "      <td>190561754</td>\n",
              "      <td>1</td>\n",
              "      <td>2017-04-20 12:10:30</td>\n",
              "      <td>2017-04-20 12:28:29</td>\n",
              "      <td>1079.0</td>\n",
              "      <td>1079.00</td>\n",
              "      <td>1079.0</td>\n",
              "    </tr>\n",
              "    <tr>\n",
              "      <th>2</th>\n",
              "      <td>login0</td>\n",
              "      <td>190565906</td>\n",
              "      <td>4</td>\n",
              "      <td>2017-04-20 12:21:31</td>\n",
              "      <td>2017-04-20 13:30:10</td>\n",
              "      <td>4119.0</td>\n",
              "      <td>1029.75</td>\n",
              "      <td>4119.0</td>\n",
              "    </tr>\n",
              "    <tr>\n",
              "      <th>3</th>\n",
              "      <td>login0</td>\n",
              "      <td>190560246</td>\n",
              "      <td>1</td>\n",
              "      <td>2017-04-20 12:28:30</td>\n",
              "      <td>2017-04-20 13:13:56</td>\n",
              "      <td>2726.0</td>\n",
              "      <td>2726.00</td>\n",
              "      <td>2726.0</td>\n",
              "    </tr>\n",
              "    <tr>\n",
              "      <th>4</th>\n",
              "      <td>login0</td>\n",
              "      <td>190562168</td>\n",
              "      <td>2</td>\n",
              "      <td>2017-04-20 12:28:42</td>\n",
              "      <td>2017-04-20 13:14:50</td>\n",
              "      <td>2768.0</td>\n",
              "      <td>1384.00</td>\n",
              "      <td>2768.0</td>\n",
              "    </tr>\n",
              "    <tr>\n",
              "      <th>5</th>\n",
              "      <td>login0</td>\n",
              "      <td>190560934</td>\n",
              "      <td>1</td>\n",
              "      <td>2017-04-20 12:28:53</td>\n",
              "      <td>2017-04-20 13:15:23</td>\n",
              "      <td>2790.0</td>\n",
              "      <td>2790.00</td>\n",
              "      <td>2790.0</td>\n",
              "    </tr>\n",
              "    <tr>\n",
              "      <th>6</th>\n",
              "      <td>login0</td>\n",
              "      <td>190563590</td>\n",
              "      <td>1</td>\n",
              "      <td>2017-04-20 12:29:06</td>\n",
              "      <td>2017-04-20 13:15:36</td>\n",
              "      <td>2790.0</td>\n",
              "      <td>2790.00</td>\n",
              "      <td>2790.0</td>\n",
              "    </tr>\n",
              "    <tr>\n",
              "      <th>7</th>\n",
              "      <td>login0</td>\n",
              "      <td>190565094</td>\n",
              "      <td>1</td>\n",
              "      <td>2017-04-20 13:47:43</td>\n",
              "      <td>2017-04-20 14:19:46</td>\n",
              "      <td>1923.0</td>\n",
              "      <td>1923.00</td>\n",
              "      <td>1923.0</td>\n",
              "    </tr>\n",
              "    <tr>\n",
              "      <th>8</th>\n",
              "      <td>login0</td>\n",
              "      <td>190560460</td>\n",
              "      <td>1</td>\n",
              "      <td>2017-04-20 14:02:13</td>\n",
              "      <td>2017-04-20 14:22:22</td>\n",
              "      <td>1209.0</td>\n",
              "      <td>1209.00</td>\n",
              "      <td>1209.0</td>\n",
              "    </tr>\n",
              "    <tr>\n",
              "      <th>9</th>\n",
              "      <td>login0</td>\n",
              "      <td>190662496</td>\n",
              "      <td>5</td>\n",
              "      <td>2017-04-20 15:22:24</td>\n",
              "      <td>2017-04-20 17:22:10</td>\n",
              "      <td>7186.0</td>\n",
              "      <td>1437.20</td>\n",
              "      <td>7186.0</td>\n",
              "    </tr>\n",
              "  </tbody>\n",
              "</table>\n",
              "</div>"
            ],
            "text/plain": [
              "    login        tid  ...  time_for_one_task time_for_tasks_y\n",
              "0  login0  190563850  ...             950.50           3802.0\n",
              "1  login0  190561754  ...            1079.00           1079.0\n",
              "2  login0  190565906  ...            1029.75           4119.0\n",
              "3  login0  190560246  ...            2726.00           2726.0\n",
              "4  login0  190562168  ...            1384.00           2768.0\n",
              "5  login0  190560934  ...            2790.00           2790.0\n",
              "6  login0  190563590  ...            2790.00           2790.0\n",
              "7  login0  190565094  ...            1923.00           1923.0\n",
              "8  login0  190560460  ...            1209.00           1209.0\n",
              "9  login0  190662496  ...            1437.20           7186.0\n",
              "\n",
              "[10 rows x 8 columns]"
            ]
          },
          "metadata": {
            "tags": []
          },
          "execution_count": 11
        }
      ]
    },
    {
      "cell_type": "code",
      "metadata": {
        "colab": {
          "base_uri": "https://localhost:8080/"
        },
        "id": "N9JG-DsmFJqP",
        "outputId": "06902b04-d829-41d2-a312-3575a29f83d3"
      },
      "source": [
        "(res['time_for_tasks_x'] == res['time_for_tasks_y']).value_counts()"
      ],
      "execution_count": 12,
      "outputs": [
        {
          "output_type": "execute_result",
          "data": {
            "text/plain": [
              "True     655014\n",
              "False     46813\n",
              "dtype: int64"
            ]
          },
          "metadata": {
            "tags": []
          },
          "execution_count": 12
        }
      ]
    },
    {
      "cell_type": "code",
      "metadata": {
        "colab": {
          "base_uri": "https://localhost:8080/",
          "height": 419
        },
        "id": "0NocEgWKIE-Q",
        "outputId": "f17669c3-9bed-44b9-8fd1-cc14698f09f1"
      },
      "source": [
        "res['time_for_one_task_y'] = res['time_for_tasks_y']/res['Microtasks']\n",
        "res"
      ],
      "execution_count": 13,
      "outputs": [
        {
          "output_type": "execute_result",
          "data": {
            "text/html": [
              "<div>\n",
              "<style scoped>\n",
              "    .dataframe tbody tr th:only-of-type {\n",
              "        vertical-align: middle;\n",
              "    }\n",
              "\n",
              "    .dataframe tbody tr th {\n",
              "        vertical-align: top;\n",
              "    }\n",
              "\n",
              "    .dataframe thead th {\n",
              "        text-align: right;\n",
              "    }\n",
              "</style>\n",
              "<table border=\"1\" class=\"dataframe\">\n",
              "  <thead>\n",
              "    <tr style=\"text-align: right;\">\n",
              "      <th></th>\n",
              "      <th>login</th>\n",
              "      <th>tid</th>\n",
              "      <th>Microtasks</th>\n",
              "      <th>assigned_ts</th>\n",
              "      <th>closed_ts</th>\n",
              "      <th>time_for_tasks_x</th>\n",
              "      <th>time_for_one_task</th>\n",
              "      <th>time_for_tasks_y</th>\n",
              "      <th>time_for_one_task_y</th>\n",
              "    </tr>\n",
              "  </thead>\n",
              "  <tbody>\n",
              "    <tr>\n",
              "      <th>0</th>\n",
              "      <td>login0</td>\n",
              "      <td>190563850</td>\n",
              "      <td>4</td>\n",
              "      <td>2017-04-20 12:09:39</td>\n",
              "      <td>2017-04-20 13:13:01</td>\n",
              "      <td>3802.0</td>\n",
              "      <td>950.500000</td>\n",
              "      <td>3802.0</td>\n",
              "      <td>950.500000</td>\n",
              "    </tr>\n",
              "    <tr>\n",
              "      <th>1</th>\n",
              "      <td>login0</td>\n",
              "      <td>190561754</td>\n",
              "      <td>1</td>\n",
              "      <td>2017-04-20 12:10:30</td>\n",
              "      <td>2017-04-20 12:28:29</td>\n",
              "      <td>1079.0</td>\n",
              "      <td>1079.000000</td>\n",
              "      <td>1079.0</td>\n",
              "      <td>1079.000000</td>\n",
              "    </tr>\n",
              "    <tr>\n",
              "      <th>2</th>\n",
              "      <td>login0</td>\n",
              "      <td>190565906</td>\n",
              "      <td>4</td>\n",
              "      <td>2017-04-20 12:21:31</td>\n",
              "      <td>2017-04-20 13:30:10</td>\n",
              "      <td>4119.0</td>\n",
              "      <td>1029.750000</td>\n",
              "      <td>4119.0</td>\n",
              "      <td>1029.750000</td>\n",
              "    </tr>\n",
              "    <tr>\n",
              "      <th>3</th>\n",
              "      <td>login0</td>\n",
              "      <td>190560246</td>\n",
              "      <td>1</td>\n",
              "      <td>2017-04-20 12:28:30</td>\n",
              "      <td>2017-04-20 13:13:56</td>\n",
              "      <td>2726.0</td>\n",
              "      <td>2726.000000</td>\n",
              "      <td>2726.0</td>\n",
              "      <td>2726.000000</td>\n",
              "    </tr>\n",
              "    <tr>\n",
              "      <th>4</th>\n",
              "      <td>login0</td>\n",
              "      <td>190562168</td>\n",
              "      <td>2</td>\n",
              "      <td>2017-04-20 12:28:42</td>\n",
              "      <td>2017-04-20 13:14:50</td>\n",
              "      <td>2768.0</td>\n",
              "      <td>1384.000000</td>\n",
              "      <td>2768.0</td>\n",
              "      <td>1384.000000</td>\n",
              "    </tr>\n",
              "    <tr>\n",
              "      <th>...</th>\n",
              "      <td>...</td>\n",
              "      <td>...</td>\n",
              "      <td>...</td>\n",
              "      <td>...</td>\n",
              "      <td>...</td>\n",
              "      <td>...</td>\n",
              "      <td>...</td>\n",
              "      <td>...</td>\n",
              "      <td>...</td>\n",
              "    </tr>\n",
              "    <tr>\n",
              "      <th>701822</th>\n",
              "      <td>login766</td>\n",
              "      <td>195580810</td>\n",
              "      <td>4</td>\n",
              "      <td>2017-05-15 12:24:26</td>\n",
              "      <td>2017-05-15 14:09:36</td>\n",
              "      <td>6310.0</td>\n",
              "      <td>1577.500000</td>\n",
              "      <td>6310.0</td>\n",
              "      <td>1577.500000</td>\n",
              "    </tr>\n",
              "    <tr>\n",
              "      <th>701823</th>\n",
              "      <td>login766</td>\n",
              "      <td>195580162</td>\n",
              "      <td>1</td>\n",
              "      <td>2017-05-15 12:24:33</td>\n",
              "      <td>2017-05-15 14:10:18</td>\n",
              "      <td>6345.0</td>\n",
              "      <td>6345.000000</td>\n",
              "      <td>6345.0</td>\n",
              "      <td>6345.000000</td>\n",
              "    </tr>\n",
              "    <tr>\n",
              "      <th>701824</th>\n",
              "      <td>login766</td>\n",
              "      <td>195584796</td>\n",
              "      <td>1</td>\n",
              "      <td>2017-05-15 12:24:41</td>\n",
              "      <td>2017-05-15 14:11:10</td>\n",
              "      <td>6389.0</td>\n",
              "      <td>6389.000000</td>\n",
              "      <td>6389.0</td>\n",
              "      <td>6389.000000</td>\n",
              "    </tr>\n",
              "    <tr>\n",
              "      <th>701825</th>\n",
              "      <td>login766</td>\n",
              "      <td>195656336</td>\n",
              "      <td>3</td>\n",
              "      <td>2017-05-15 15:54:18</td>\n",
              "      <td>2017-05-15 16:32:11</td>\n",
              "      <td>2273.0</td>\n",
              "      <td>757.666667</td>\n",
              "      <td>2273.0</td>\n",
              "      <td>757.666667</td>\n",
              "    </tr>\n",
              "    <tr>\n",
              "      <th>701826</th>\n",
              "      <td>login766</td>\n",
              "      <td>195656078</td>\n",
              "      <td>2</td>\n",
              "      <td>2017-05-15 15:54:59</td>\n",
              "      <td>2017-05-15 16:17:32</td>\n",
              "      <td>1353.0</td>\n",
              "      <td>676.500000</td>\n",
              "      <td>1353.0</td>\n",
              "      <td>676.500000</td>\n",
              "    </tr>\n",
              "  </tbody>\n",
              "</table>\n",
              "<p>701827 rows × 9 columns</p>\n",
              "</div>"
            ],
            "text/plain": [
              "           login        tid  ...  time_for_tasks_y time_for_one_task_y\n",
              "0         login0  190563850  ...            3802.0          950.500000\n",
              "1         login0  190561754  ...            1079.0         1079.000000\n",
              "2         login0  190565906  ...            4119.0         1029.750000\n",
              "3         login0  190560246  ...            2726.0         2726.000000\n",
              "4         login0  190562168  ...            2768.0         1384.000000\n",
              "...          ...        ...  ...               ...                 ...\n",
              "701822  login766  195580810  ...            6310.0         1577.500000\n",
              "701823  login766  195580162  ...            6345.0         6345.000000\n",
              "701824  login766  195584796  ...            6389.0         6389.000000\n",
              "701825  login766  195656336  ...            2273.0          757.666667\n",
              "701826  login766  195656078  ...            1353.0          676.500000\n",
              "\n",
              "[701827 rows x 9 columns]"
            ]
          },
          "metadata": {
            "tags": []
          },
          "execution_count": 13
        }
      ]
    },
    {
      "cell_type": "code",
      "metadata": {
        "colab": {
          "base_uri": "https://localhost:8080/"
        },
        "id": "B8xC4xTx0gHp",
        "outputId": "82a3c095-ae6b-4689-955f-9cfa81ef0292"
      },
      "source": [
        "#проверим данные на количество дубликатов. Если найдутся, удаляем, и проверяем, все ли удалились.\n",
        "res.duplicated().sum()"
      ],
      "execution_count": 14,
      "outputs": [
        {
          "output_type": "execute_result",
          "data": {
            "text/plain": [
              "21790"
            ]
          },
          "metadata": {
            "tags": []
          },
          "execution_count": 14
        }
      ]
    },
    {
      "cell_type": "code",
      "metadata": {
        "colab": {
          "base_uri": "https://localhost:8080/"
        },
        "id": "7DQ0avM205JI",
        "outputId": "d5a424ff-8be8-4a3c-db4d-9e1a9ea2ab90"
      },
      "source": [
        "res = res.drop_duplicates().reset_index(drop=True)\n",
        "res.duplicated().sum()"
      ],
      "execution_count": 15,
      "outputs": [
        {
          "output_type": "execute_result",
          "data": {
            "text/plain": [
              "0"
            ]
          },
          "metadata": {
            "tags": []
          },
          "execution_count": 15
        }
      ]
    },
    {
      "cell_type": "markdown",
      "metadata": {
        "id": "_QVY9tmY1Mcy"
      },
      "source": [
        "Дубликаты могли появиться вследствие сбоя в записи данных. Их удаление позволит провести анализ точнее."
      ]
    },
    {
      "cell_type": "markdown",
      "metadata": {
        "id": "sPkMIld61ptt"
      },
      "source": [
        "Вычислим на какое значение нужно умножать стоимость N работы за 30 секунд, чтобы получить итоговую сумму за одно микрозадание \n",
        "\n",
        "Посчитаем затраченное на выполнение одного задания время, просуммировав время одного задания всех пользователей и раделив на временной тайминг оплаты - 30 секунд"
      ]
    },
    {
      "cell_type": "code",
      "metadata": {
        "id": "O5an0BmU1La2"
      },
      "source": [
        "time_coeff = (((res.groupby('login')['time_for_tasks_y'].sum()))/30)/res['Microtasks'].sum()\n"
      ],
      "execution_count": 16,
      "outputs": []
    },
    {
      "cell_type": "markdown",
      "metadata": {
        "id": "n4QaSw3rJ14P"
      },
      "source": [
        "Теперь вычислим итоговую сумму за одно микрозадание:\n",
        "\n",
        "В среднем ассессоры в Яндексе получают з/п примерно 25000рублей/месяц при работе 40 часов в неделю при графике 5/2. Вычислим, какая сумма получится за 30 секунд рабочего времени:\n",
        "\n",
        "25000рублей / (20раб.дней * 8раб.часов * 60минут * 60сек / 30сек) = 1,30208333рубля"
      ]
    },
    {
      "cell_type": "markdown",
      "metadata": {
        "id": "xLtCmXYhGNpf"
      },
      "source": [
        "В итоге, с учетом среднего затраченного на задание пользователем времени и средней з/п ассессора, получаем следующую примерную стоимость одного микрозадания:"
      ]
    },
    {
      "cell_type": "code",
      "metadata": {
        "colab": {
          "base_uri": "https://localhost:8080/"
        },
        "id": "lv_e0h2cG6M_",
        "outputId": "c5ef3bc6-b9da-4c48-8faf-7472e32af381"
      },
      "source": [
        "N = 1.3\n",
        "payment = N * time_coeff\n",
        "payment.sum()/len(payment)"
      ],
      "execution_count": 17,
      "outputs": [
        {
          "output_type": "execute_result",
          "data": {
            "text/plain": [
              "0.02839337550837709"
            ]
          },
          "metadata": {
            "tags": []
          },
          "execution_count": 17
        }
      ]
    },
    {
      "cell_type": "markdown",
      "metadata": {
        "id": "IaKOzoDOHyA2"
      },
      "source": [
        "Таким образом, примерная стоимость одного микрозадания из данного файла составляет 0.02839рублей"
      ]
    }
  ]
}