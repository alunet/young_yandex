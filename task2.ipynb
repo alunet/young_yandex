{
  "nbformat": 4,
  "nbformat_minor": 0,
  "metadata": {
    "colab": {
      "name": "task2.ipynb",
      "provenance": [],
      "collapsed_sections": []
    },
    "kernelspec": {
      "name": "python3",
      "display_name": "Python 3"
    },
    "language_info": {
      "name": "python"
    }
  },
  "cells": [
    {
      "cell_type": "markdown",
      "metadata": {
        "id": "Ugj0r4fTupnN"
      },
      "source": [
        "Оценки могут принимать значение [0, 1], т.е. задание, которое сделали асессоры, имеет бинарную шкалу.\n",
        "\n",
        "Используя данные об оценках, установите, какие асессоры хуже всего справились с заданием. На какие показатели вы ориентировались и какие метрики вы использовали для ответа на этот вопрос? Можно ли предложить какие-то новые метрики для подсчета качества асессоров с учетом природы оценок у этого бинарного задания?\n"
      ]
    },
    {
      "cell_type": "code",
      "metadata": {
        "id": "Q_XKn_HMup17"
      },
      "source": [
        "#импорт библиотек\n",
        "import numpy as np \n",
        "import pandas as pd\n",
        "from datetime import datetime"
      ],
      "execution_count": 1,
      "outputs": []
    },
    {
      "cell_type": "code",
      "metadata": {
        "colab": {
          "base_uri": "https://localhost:8080/",
          "height": 419
        },
        "id": "Ap7xkLo6u0zq",
        "outputId": "948af28b-b03f-46cf-b530-6083bd830ae4"
      },
      "source": [
        "#считываем файл и сохраняем в переменную data\n",
        "path = 'task2.csv'# путь к папке на локальном компьютере\n",
        "data = pd.read_csv(path, sep='\\t')\n",
        "data"
      ],
      "execution_count": 2,
      "outputs": [
        {
          "output_type": "execute_result",
          "data": {
            "text/html": [
              "<div>\n",
              "<style scoped>\n",
              "    .dataframe tbody tr th:only-of-type {\n",
              "        vertical-align: middle;\n",
              "    }\n",
              "\n",
              "    .dataframe tbody tr th {\n",
              "        vertical-align: top;\n",
              "    }\n",
              "\n",
              "    .dataframe thead th {\n",
              "        text-align: right;\n",
              "    }\n",
              "</style>\n",
              "<table border=\"1\" class=\"dataframe\">\n",
              "  <thead>\n",
              "    <tr style=\"text-align: right;\">\n",
              "      <th></th>\n",
              "      <th>login</th>\n",
              "      <th>uid</th>\n",
              "      <th>docid</th>\n",
              "      <th>jud</th>\n",
              "      <th>cjud</th>\n",
              "    </tr>\n",
              "  </thead>\n",
              "  <tbody>\n",
              "    <tr>\n",
              "      <th>0</th>\n",
              "      <td>assessor158</td>\n",
              "      <td>158</td>\n",
              "      <td>0</td>\n",
              "      <td>0</td>\n",
              "      <td>0</td>\n",
              "    </tr>\n",
              "    <tr>\n",
              "      <th>1</th>\n",
              "      <td>assessor238</td>\n",
              "      <td>238</td>\n",
              "      <td>0</td>\n",
              "      <td>0</td>\n",
              "      <td>0</td>\n",
              "    </tr>\n",
              "    <tr>\n",
              "      <th>2</th>\n",
              "      <td>assessor488</td>\n",
              "      <td>488</td>\n",
              "      <td>0</td>\n",
              "      <td>0</td>\n",
              "      <td>0</td>\n",
              "    </tr>\n",
              "    <tr>\n",
              "      <th>3</th>\n",
              "      <td>assessor136</td>\n",
              "      <td>136</td>\n",
              "      <td>0</td>\n",
              "      <td>0</td>\n",
              "      <td>0</td>\n",
              "    </tr>\n",
              "    <tr>\n",
              "      <th>4</th>\n",
              "      <td>assessor300</td>\n",
              "      <td>300</td>\n",
              "      <td>0</td>\n",
              "      <td>0</td>\n",
              "      <td>0</td>\n",
              "    </tr>\n",
              "    <tr>\n",
              "      <th>...</th>\n",
              "      <td>...</td>\n",
              "      <td>...</td>\n",
              "      <td>...</td>\n",
              "      <td>...</td>\n",
              "      <td>...</td>\n",
              "    </tr>\n",
              "    <tr>\n",
              "      <th>249995</th>\n",
              "      <td>assessor208</td>\n",
              "      <td>208</td>\n",
              "      <td>49999</td>\n",
              "      <td>1</td>\n",
              "      <td>1</td>\n",
              "    </tr>\n",
              "    <tr>\n",
              "      <th>249996</th>\n",
              "      <td>assessor139</td>\n",
              "      <td>139</td>\n",
              "      <td>49999</td>\n",
              "      <td>1</td>\n",
              "      <td>1</td>\n",
              "    </tr>\n",
              "    <tr>\n",
              "      <th>249997</th>\n",
              "      <td>assessor333</td>\n",
              "      <td>333</td>\n",
              "      <td>49999</td>\n",
              "      <td>1</td>\n",
              "      <td>1</td>\n",
              "    </tr>\n",
              "    <tr>\n",
              "      <th>249998</th>\n",
              "      <td>assessor160</td>\n",
              "      <td>160</td>\n",
              "      <td>49999</td>\n",
              "      <td>1</td>\n",
              "      <td>1</td>\n",
              "    </tr>\n",
              "    <tr>\n",
              "      <th>249999</th>\n",
              "      <td>assessor175</td>\n",
              "      <td>175</td>\n",
              "      <td>49999</td>\n",
              "      <td>1</td>\n",
              "      <td>1</td>\n",
              "    </tr>\n",
              "  </tbody>\n",
              "</table>\n",
              "<p>250000 rows × 5 columns</p>\n",
              "</div>"
            ],
            "text/plain": [
              "              login  uid  docid  jud  cjud\n",
              "0       assessor158  158      0    0     0\n",
              "1       assessor238  238      0    0     0\n",
              "2       assessor488  488      0    0     0\n",
              "3       assessor136  136      0    0     0\n",
              "4       assessor300  300      0    0     0\n",
              "...             ...  ...    ...  ...   ...\n",
              "249995  assessor208  208  49999    1     1\n",
              "249996  assessor139  139  49999    1     1\n",
              "249997  assessor333  333  49999    1     1\n",
              "249998  assessor160  160  49999    1     1\n",
              "249999  assessor175  175  49999    1     1\n",
              "\n",
              "[250000 rows x 5 columns]"
            ]
          },
          "metadata": {
            "tags": []
          },
          "execution_count": 2
        }
      ]
    },
    {
      "cell_type": "code",
      "metadata": {
        "colab": {
          "base_uri": "https://localhost:8080/"
        },
        "id": "1rZAOEthu_TA",
        "outputId": "30b606c8-3219-4b6f-e910-d06c93ce812b"
      },
      "source": [
        "#Общая информация о данных таблицы data\n",
        "data.info()"
      ],
      "execution_count": 3,
      "outputs": [
        {
          "output_type": "stream",
          "text": [
            "<class 'pandas.core.frame.DataFrame'>\n",
            "RangeIndex: 250000 entries, 0 to 249999\n",
            "Data columns (total 5 columns):\n",
            " #   Column  Non-Null Count   Dtype \n",
            "---  ------  --------------   ----- \n",
            " 0   login   250000 non-null  object\n",
            " 1   uid     250000 non-null  int64 \n",
            " 2   docid   250000 non-null  int64 \n",
            " 3   jud     250000 non-null  int64 \n",
            " 4   cjud    250000 non-null  int64 \n",
            "dtypes: int64(4), object(1)\n",
            "memory usage: 9.5+ MB\n"
          ],
          "name": "stdout"
        }
      ]
    },
    {
      "cell_type": "markdown",
      "metadata": {
        "id": "yF7I0zbjvdO6"
      },
      "source": [
        "Рассмотрим полученную информацию подробнее.\n",
        "\n",
        "Пропущенных значений нет.\n",
        "\n",
        "Всего в таблице 5 столбцов, тип данных у большинства - int.\n",
        "\n",
        "Подробно разберём, какие в data столбцы и какую информацию они содержат:\n",
        "\n",
        "login — логин асессора; \n",
        "\n",
        "uid — id асессора (user id); \n",
        "\n",
        "docid — id оцениваемого документа (document id); \n",
        "\n",
        "jud — оценка асессора (judgement); \n",
        "\n",
        "cjud — правильная оценка (correct judgement)"
      ]
    },
    {
      "cell_type": "code",
      "metadata": {
        "colab": {
          "base_uri": "https://localhost:8080/"
        },
        "id": "_lgvBPlVvQKu",
        "outputId": "6247fb39-e5a4-4924-e7f6-7a0d9a262fba"
      },
      "source": [
        "#Посмотрим, есть ли одинаковые задания у разных асессоров\n",
        "len(data['docid'].unique())"
      ],
      "execution_count": 4,
      "outputs": [
        {
          "output_type": "execute_result",
          "data": {
            "text/plain": [
              "50000"
            ]
          },
          "metadata": {
            "tags": []
          },
          "execution_count": 4
        }
      ]
    },
    {
      "cell_type": "code",
      "metadata": {
        "colab": {
          "base_uri": "https://localhost:8080/"
        },
        "id": "NUt9zJjDvzJe",
        "outputId": "0e3e7fa1-31a7-4d4d-b068-44018c432fd3"
      },
      "source": [
        "#Найдем количество асессоров, представленных в данном файле\n",
        "len(data['uid'].unique())"
      ],
      "execution_count": 5,
      "outputs": [
        {
          "output_type": "execute_result",
          "data": {
            "text/plain": [
              "600"
            ]
          },
          "metadata": {
            "tags": []
          },
          "execution_count": 5
        }
      ]
    },
    {
      "cell_type": "code",
      "metadata": {
        "colab": {
          "base_uri": "https://localhost:8080/"
        },
        "id": "5RjNkfkqv5ZT",
        "outputId": "2c526476-9328-4aa1-aba7-15ca743229a7"
      },
      "source": [
        "docid_counts = data.docid.value_counts()\n",
        "docid_counts.head(10)"
      ],
      "execution_count": 6,
      "outputs": [
        {
          "output_type": "execute_result",
          "data": {
            "text/plain": [
              "2047     5\n",
              "29860    5\n",
              "17698    5\n",
              "23841    5\n",
              "21792    5\n",
              "44223    5\n",
              "42174    5\n",
              "48317    5\n",
              "46268    5\n",
              "36027    5\n",
              "Name: docid, dtype: int64"
            ]
          },
          "metadata": {
            "tags": []
          },
          "execution_count": 6
        }
      ]
    },
    {
      "cell_type": "code",
      "metadata": {
        "colab": {
          "base_uri": "https://localhost:8080/"
        },
        "id": "RZGHiMj-wEXQ",
        "outputId": "a01a7508-8127-4b73-eedc-296a8b774527"
      },
      "source": [
        "sum(data.docid.value_counts() == 5)"
      ],
      "execution_count": 7,
      "outputs": [
        {
          "output_type": "execute_result",
          "data": {
            "text/plain": [
              "50000"
            ]
          },
          "metadata": {
            "tags": []
          },
          "execution_count": 7
        }
      ]
    },
    {
      "cell_type": "markdown",
      "metadata": {
        "id": "NN63JaAHwUmd"
      },
      "source": [
        "Как мы видим, каждое задание оценивалось ровно 5 раз."
      ]
    },
    {
      "cell_type": "markdown",
      "metadata": {
        "id": "wVy6Qp4TyZY_"
      },
      "source": [
        "Добавим столбец с разницей двух столбцов с правильной оценкой и оценкой асессора. \n",
        "\n",
        "Если полученное значение = 0, то асессор правильно оценил задание, если 1 - то ошибся."
      ]
    },
    {
      "cell_type": "code",
      "metadata": {
        "colab": {
          "base_uri": "https://localhost:8080/",
          "height": 419
        },
        "id": "SF4iwvGPwPH_",
        "outputId": "a2217119-4c88-4b8e-dc1e-4f81385d4a72"
      },
      "source": [
        "data['metrica1'] = abs(data['cjud'] - data['jud'])\n",
        "data"
      ],
      "execution_count": 8,
      "outputs": [
        {
          "output_type": "execute_result",
          "data": {
            "text/html": [
              "<div>\n",
              "<style scoped>\n",
              "    .dataframe tbody tr th:only-of-type {\n",
              "        vertical-align: middle;\n",
              "    }\n",
              "\n",
              "    .dataframe tbody tr th {\n",
              "        vertical-align: top;\n",
              "    }\n",
              "\n",
              "    .dataframe thead th {\n",
              "        text-align: right;\n",
              "    }\n",
              "</style>\n",
              "<table border=\"1\" class=\"dataframe\">\n",
              "  <thead>\n",
              "    <tr style=\"text-align: right;\">\n",
              "      <th></th>\n",
              "      <th>login</th>\n",
              "      <th>uid</th>\n",
              "      <th>docid</th>\n",
              "      <th>jud</th>\n",
              "      <th>cjud</th>\n",
              "      <th>metrica1</th>\n",
              "    </tr>\n",
              "  </thead>\n",
              "  <tbody>\n",
              "    <tr>\n",
              "      <th>0</th>\n",
              "      <td>assessor158</td>\n",
              "      <td>158</td>\n",
              "      <td>0</td>\n",
              "      <td>0</td>\n",
              "      <td>0</td>\n",
              "      <td>0</td>\n",
              "    </tr>\n",
              "    <tr>\n",
              "      <th>1</th>\n",
              "      <td>assessor238</td>\n",
              "      <td>238</td>\n",
              "      <td>0</td>\n",
              "      <td>0</td>\n",
              "      <td>0</td>\n",
              "      <td>0</td>\n",
              "    </tr>\n",
              "    <tr>\n",
              "      <th>2</th>\n",
              "      <td>assessor488</td>\n",
              "      <td>488</td>\n",
              "      <td>0</td>\n",
              "      <td>0</td>\n",
              "      <td>0</td>\n",
              "      <td>0</td>\n",
              "    </tr>\n",
              "    <tr>\n",
              "      <th>3</th>\n",
              "      <td>assessor136</td>\n",
              "      <td>136</td>\n",
              "      <td>0</td>\n",
              "      <td>0</td>\n",
              "      <td>0</td>\n",
              "      <td>0</td>\n",
              "    </tr>\n",
              "    <tr>\n",
              "      <th>4</th>\n",
              "      <td>assessor300</td>\n",
              "      <td>300</td>\n",
              "      <td>0</td>\n",
              "      <td>0</td>\n",
              "      <td>0</td>\n",
              "      <td>0</td>\n",
              "    </tr>\n",
              "    <tr>\n",
              "      <th>...</th>\n",
              "      <td>...</td>\n",
              "      <td>...</td>\n",
              "      <td>...</td>\n",
              "      <td>...</td>\n",
              "      <td>...</td>\n",
              "      <td>...</td>\n",
              "    </tr>\n",
              "    <tr>\n",
              "      <th>249995</th>\n",
              "      <td>assessor208</td>\n",
              "      <td>208</td>\n",
              "      <td>49999</td>\n",
              "      <td>1</td>\n",
              "      <td>1</td>\n",
              "      <td>0</td>\n",
              "    </tr>\n",
              "    <tr>\n",
              "      <th>249996</th>\n",
              "      <td>assessor139</td>\n",
              "      <td>139</td>\n",
              "      <td>49999</td>\n",
              "      <td>1</td>\n",
              "      <td>1</td>\n",
              "      <td>0</td>\n",
              "    </tr>\n",
              "    <tr>\n",
              "      <th>249997</th>\n",
              "      <td>assessor333</td>\n",
              "      <td>333</td>\n",
              "      <td>49999</td>\n",
              "      <td>1</td>\n",
              "      <td>1</td>\n",
              "      <td>0</td>\n",
              "    </tr>\n",
              "    <tr>\n",
              "      <th>249998</th>\n",
              "      <td>assessor160</td>\n",
              "      <td>160</td>\n",
              "      <td>49999</td>\n",
              "      <td>1</td>\n",
              "      <td>1</td>\n",
              "      <td>0</td>\n",
              "    </tr>\n",
              "    <tr>\n",
              "      <th>249999</th>\n",
              "      <td>assessor175</td>\n",
              "      <td>175</td>\n",
              "      <td>49999</td>\n",
              "      <td>1</td>\n",
              "      <td>1</td>\n",
              "      <td>0</td>\n",
              "    </tr>\n",
              "  </tbody>\n",
              "</table>\n",
              "<p>250000 rows × 6 columns</p>\n",
              "</div>"
            ],
            "text/plain": [
              "              login  uid  docid  jud  cjud  metrica1\n",
              "0       assessor158  158      0    0     0         0\n",
              "1       assessor238  238      0    0     0         0\n",
              "2       assessor488  488      0    0     0         0\n",
              "3       assessor136  136      0    0     0         0\n",
              "4       assessor300  300      0    0     0         0\n",
              "...             ...  ...    ...  ...   ...       ...\n",
              "249995  assessor208  208  49999    1     1         0\n",
              "249996  assessor139  139  49999    1     1         0\n",
              "249997  assessor333  333  49999    1     1         0\n",
              "249998  assessor160  160  49999    1     1         0\n",
              "249999  assessor175  175  49999    1     1         0\n",
              "\n",
              "[250000 rows x 6 columns]"
            ]
          },
          "metadata": {
            "tags": []
          },
          "execution_count": 8
        }
      ]
    },
    {
      "cell_type": "markdown",
      "metadata": {
        "id": "vQjl71oeyrJK"
      },
      "source": [
        "Найдем, какое количество ошибок было допущено асессорами в данном файле."
      ]
    },
    {
      "cell_type": "code",
      "metadata": {
        "colab": {
          "base_uri": "https://localhost:8080/"
        },
        "id": "6r93lncdyJ07",
        "outputId": "0ae62528-8979-48e1-8c77-c3b1a11d629c"
      },
      "source": [
        "sum(data.metrica1 > 0)"
      ],
      "execution_count": 9,
      "outputs": [
        {
          "output_type": "execute_result",
          "data": {
            "text/plain": [
              "39678"
            ]
          },
          "metadata": {
            "tags": []
          },
          "execution_count": 9
        }
      ]
    },
    {
      "cell_type": "code",
      "metadata": {
        "colab": {
          "base_uri": "https://localhost:8080/",
          "height": 390
        },
        "id": "9BwH5ctVyTfM",
        "outputId": "5efc10ba-9848-4cc1-8c78-b8332358917c"
      },
      "source": [
        "data_pivot = data.pivot_table(columns = 'uid', values = 'metrica1', aggfunc=np.sum)\n",
        "data_pivot = data_pivot.transpose()\n",
        "data_pivot.head(10)"
      ],
      "execution_count": 10,
      "outputs": [
        {
          "output_type": "execute_result",
          "data": {
            "text/html": [
              "<div>\n",
              "<style scoped>\n",
              "    .dataframe tbody tr th:only-of-type {\n",
              "        vertical-align: middle;\n",
              "    }\n",
              "\n",
              "    .dataframe tbody tr th {\n",
              "        vertical-align: top;\n",
              "    }\n",
              "\n",
              "    .dataframe thead th {\n",
              "        text-align: right;\n",
              "    }\n",
              "</style>\n",
              "<table border=\"1\" class=\"dataframe\">\n",
              "  <thead>\n",
              "    <tr style=\"text-align: right;\">\n",
              "      <th></th>\n",
              "      <th>metrica1</th>\n",
              "    </tr>\n",
              "    <tr>\n",
              "      <th>uid</th>\n",
              "      <th></th>\n",
              "    </tr>\n",
              "  </thead>\n",
              "  <tbody>\n",
              "    <tr>\n",
              "      <th>0</th>\n",
              "      <td>65</td>\n",
              "    </tr>\n",
              "    <tr>\n",
              "      <th>1</th>\n",
              "      <td>82</td>\n",
              "    </tr>\n",
              "    <tr>\n",
              "      <th>2</th>\n",
              "      <td>76</td>\n",
              "    </tr>\n",
              "    <tr>\n",
              "      <th>3</th>\n",
              "      <td>230</td>\n",
              "    </tr>\n",
              "    <tr>\n",
              "      <th>4</th>\n",
              "      <td>72</td>\n",
              "    </tr>\n",
              "    <tr>\n",
              "      <th>5</th>\n",
              "      <td>40</td>\n",
              "    </tr>\n",
              "    <tr>\n",
              "      <th>6</th>\n",
              "      <td>69</td>\n",
              "    </tr>\n",
              "    <tr>\n",
              "      <th>7</th>\n",
              "      <td>48</td>\n",
              "    </tr>\n",
              "    <tr>\n",
              "      <th>8</th>\n",
              "      <td>45</td>\n",
              "    </tr>\n",
              "    <tr>\n",
              "      <th>9</th>\n",
              "      <td>110</td>\n",
              "    </tr>\n",
              "  </tbody>\n",
              "</table>\n",
              "</div>"
            ],
            "text/plain": [
              "     metrica1\n",
              "uid          \n",
              "0          65\n",
              "1          82\n",
              "2          76\n",
              "3         230\n",
              "4          72\n",
              "5          40\n",
              "6          69\n",
              "7          48\n",
              "8          45\n",
              "9         110"
            ]
          },
          "metadata": {
            "tags": []
          },
          "execution_count": 10
        }
      ]
    },
    {
      "cell_type": "markdown",
      "metadata": {
        "id": "6MGZr7QQz1Hq"
      },
      "source": [
        "Чем меньше получившаяся сумма, тем лучше справился с работой асессор, так как допустил меньше ошибок."
      ]
    },
    {
      "cell_type": "markdown",
      "metadata": {
        "id": "gimfPFv6z8kU"
      },
      "source": [
        "Исходя из условий задания, необходимо установить, кто из асессоров хуже всего справился с заданиями, то есть сделал наибольшее количество ошибок."
      ]
    },
    {
      "cell_type": "code",
      "metadata": {
        "colab": {
          "base_uri": "https://localhost:8080/",
          "height": 111
        },
        "id": "0ONUg8uVzIdv",
        "outputId": "ec0bdf57-3c42-416c-ed46-3a7642a8bb36"
      },
      "source": [
        "data_pivot[data_pivot['metrica1'] == data_pivot['metrica1'].max()]"
      ],
      "execution_count": 11,
      "outputs": [
        {
          "output_type": "execute_result",
          "data": {
            "text/html": [
              "<div>\n",
              "<style scoped>\n",
              "    .dataframe tbody tr th:only-of-type {\n",
              "        vertical-align: middle;\n",
              "    }\n",
              "\n",
              "    .dataframe tbody tr th {\n",
              "        vertical-align: top;\n",
              "    }\n",
              "\n",
              "    .dataframe thead th {\n",
              "        text-align: right;\n",
              "    }\n",
              "</style>\n",
              "<table border=\"1\" class=\"dataframe\">\n",
              "  <thead>\n",
              "    <tr style=\"text-align: right;\">\n",
              "      <th></th>\n",
              "      <th>metrica1</th>\n",
              "    </tr>\n",
              "    <tr>\n",
              "      <th>uid</th>\n",
              "      <th></th>\n",
              "    </tr>\n",
              "  </thead>\n",
              "  <tbody>\n",
              "    <tr>\n",
              "      <th>56</th>\n",
              "      <td>236</td>\n",
              "    </tr>\n",
              "  </tbody>\n",
              "</table>\n",
              "</div>"
            ],
            "text/plain": [
              "     metrica1\n",
              "uid          \n",
              "56        236"
            ]
          },
          "metadata": {
            "tags": []
          },
          "execution_count": 11
        }
      ]
    },
    {
      "cell_type": "markdown",
      "metadata": {
        "id": "8uucABon0rS6"
      },
      "source": [
        "Наибольшее количество ошибок согласно metrica1 сделал асессор с uid = 56"
      ]
    },
    {
      "cell_type": "markdown",
      "metadata": {
        "id": "0GRXhekH6XiU"
      },
      "source": [
        "Выведем топ-10 асессоров с наибольшим числом ошибок:"
      ]
    },
    {
      "cell_type": "code",
      "metadata": {
        "colab": {
          "base_uri": "https://localhost:8080/",
          "height": 359
        },
        "id": "A8f2x7Ab4rFJ",
        "outputId": "6cd2469d-278a-40d5-960e-53ca97d9cb33"
      },
      "source": [
        "data_pivot_sorted = pd.DataFrame(np.sort(data_pivot.values, axis=0)[::-1][:10], columns=data_pivot.columns)\n",
        "data_pivot_sorted"
      ],
      "execution_count": 12,
      "outputs": [
        {
          "output_type": "execute_result",
          "data": {
            "text/html": [
              "<div>\n",
              "<style scoped>\n",
              "    .dataframe tbody tr th:only-of-type {\n",
              "        vertical-align: middle;\n",
              "    }\n",
              "\n",
              "    .dataframe tbody tr th {\n",
              "        vertical-align: top;\n",
              "    }\n",
              "\n",
              "    .dataframe thead th {\n",
              "        text-align: right;\n",
              "    }\n",
              "</style>\n",
              "<table border=\"1\" class=\"dataframe\">\n",
              "  <thead>\n",
              "    <tr style=\"text-align: right;\">\n",
              "      <th></th>\n",
              "      <th>metrica1</th>\n",
              "    </tr>\n",
              "  </thead>\n",
              "  <tbody>\n",
              "    <tr>\n",
              "      <th>0</th>\n",
              "      <td>236</td>\n",
              "    </tr>\n",
              "    <tr>\n",
              "      <th>1</th>\n",
              "      <td>230</td>\n",
              "    </tr>\n",
              "    <tr>\n",
              "      <th>2</th>\n",
              "      <td>214</td>\n",
              "    </tr>\n",
              "    <tr>\n",
              "      <th>3</th>\n",
              "      <td>205</td>\n",
              "    </tr>\n",
              "    <tr>\n",
              "      <th>4</th>\n",
              "      <td>110</td>\n",
              "    </tr>\n",
              "    <tr>\n",
              "      <th>5</th>\n",
              "      <td>108</td>\n",
              "    </tr>\n",
              "    <tr>\n",
              "      <th>6</th>\n",
              "      <td>108</td>\n",
              "    </tr>\n",
              "    <tr>\n",
              "      <th>7</th>\n",
              "      <td>105</td>\n",
              "    </tr>\n",
              "    <tr>\n",
              "      <th>8</th>\n",
              "      <td>100</td>\n",
              "    </tr>\n",
              "    <tr>\n",
              "      <th>9</th>\n",
              "      <td>99</td>\n",
              "    </tr>\n",
              "  </tbody>\n",
              "</table>\n",
              "</div>"
            ],
            "text/plain": [
              "   metrica1\n",
              "0       236\n",
              "1       230\n",
              "2       214\n",
              "3       205\n",
              "4       110\n",
              "5       108\n",
              "6       108\n",
              "7       105\n",
              "8       100\n",
              "9        99"
            ]
          },
          "metadata": {
            "tags": []
          },
          "execution_count": 12
        }
      ]
    },
    {
      "cell_type": "code",
      "metadata": {
        "colab": {
          "base_uri": "https://localhost:8080/",
          "height": 483
        },
        "id": "t2ZEeW2-5MJi",
        "outputId": "2f4029dd-9765-4ca3-f384-559b88b0bdfa"
      },
      "source": [
        "#Выведем uid асессоров и суммарное количество их ошибок\n",
        "data_filter = data_pivot['metrica1'].isin(data_pivot_sorted['metrica1']) \n",
        "data_pivot[data_filter]"
      ],
      "execution_count": 13,
      "outputs": [
        {
          "output_type": "execute_result",
          "data": {
            "text/html": [
              "<div>\n",
              "<style scoped>\n",
              "    .dataframe tbody tr th:only-of-type {\n",
              "        vertical-align: middle;\n",
              "    }\n",
              "\n",
              "    .dataframe tbody tr th {\n",
              "        vertical-align: top;\n",
              "    }\n",
              "\n",
              "    .dataframe thead th {\n",
              "        text-align: right;\n",
              "    }\n",
              "</style>\n",
              "<table border=\"1\" class=\"dataframe\">\n",
              "  <thead>\n",
              "    <tr style=\"text-align: right;\">\n",
              "      <th></th>\n",
              "      <th>metrica1</th>\n",
              "    </tr>\n",
              "    <tr>\n",
              "      <th>uid</th>\n",
              "      <th></th>\n",
              "    </tr>\n",
              "  </thead>\n",
              "  <tbody>\n",
              "    <tr>\n",
              "      <th>3</th>\n",
              "      <td>230</td>\n",
              "    </tr>\n",
              "    <tr>\n",
              "      <th>9</th>\n",
              "      <td>110</td>\n",
              "    </tr>\n",
              "    <tr>\n",
              "      <th>56</th>\n",
              "      <td>236</td>\n",
              "    </tr>\n",
              "    <tr>\n",
              "      <th>71</th>\n",
              "      <td>105</td>\n",
              "    </tr>\n",
              "    <tr>\n",
              "      <th>92</th>\n",
              "      <td>99</td>\n",
              "    </tr>\n",
              "    <tr>\n",
              "      <th>118</th>\n",
              "      <td>205</td>\n",
              "    </tr>\n",
              "    <tr>\n",
              "      <th>140</th>\n",
              "      <td>108</td>\n",
              "    </tr>\n",
              "    <tr>\n",
              "      <th>154</th>\n",
              "      <td>99</td>\n",
              "    </tr>\n",
              "    <tr>\n",
              "      <th>235</th>\n",
              "      <td>99</td>\n",
              "    </tr>\n",
              "    <tr>\n",
              "      <th>335</th>\n",
              "      <td>108</td>\n",
              "    </tr>\n",
              "    <tr>\n",
              "      <th>354</th>\n",
              "      <td>100</td>\n",
              "    </tr>\n",
              "    <tr>\n",
              "      <th>390</th>\n",
              "      <td>214</td>\n",
              "    </tr>\n",
              "    <tr>\n",
              "      <th>532</th>\n",
              "      <td>99</td>\n",
              "    </tr>\n",
              "  </tbody>\n",
              "</table>\n",
              "</div>"
            ],
            "text/plain": [
              "     metrica1\n",
              "uid          \n",
              "3         230\n",
              "9         110\n",
              "56        236\n",
              "71        105\n",
              "92         99\n",
              "118       205\n",
              "140       108\n",
              "154        99\n",
              "235        99\n",
              "335       108\n",
              "354       100\n",
              "390       214\n",
              "532        99"
            ]
          },
          "metadata": {
            "tags": []
          },
          "execution_count": 13
        }
      ]
    },
    {
      "cell_type": "markdown",
      "metadata": {
        "id": "Fv9j0Q_n1Qa-"
      },
      "source": [
        "Давайте теперь попробуем оценить качество выполнения работ по другой метрике"
      ]
    },
    {
      "cell_type": "code",
      "metadata": {
        "colab": {
          "base_uri": "https://localhost:8080/",
          "height": 390
        },
        "id": "7ssu40sE0U83",
        "outputId": "23f7ed92-336b-405d-b34e-7e2b9f5df6c4"
      },
      "source": [
        "#Посчитаем количество заданий, выполненное каждым пользователем\n",
        "data_pivot_uid = data.pivot_table(columns = 'uid', values = 'docid', aggfunc='count')\n",
        "data_pivot_uid = data_pivot_uid.transpose()\n",
        "data_pivot_uid.head(10)"
      ],
      "execution_count": 14,
      "outputs": [
        {
          "output_type": "execute_result",
          "data": {
            "text/html": [
              "<div>\n",
              "<style scoped>\n",
              "    .dataframe tbody tr th:only-of-type {\n",
              "        vertical-align: middle;\n",
              "    }\n",
              "\n",
              "    .dataframe tbody tr th {\n",
              "        vertical-align: top;\n",
              "    }\n",
              "\n",
              "    .dataframe thead th {\n",
              "        text-align: right;\n",
              "    }\n",
              "</style>\n",
              "<table border=\"1\" class=\"dataframe\">\n",
              "  <thead>\n",
              "    <tr style=\"text-align: right;\">\n",
              "      <th></th>\n",
              "      <th>docid</th>\n",
              "    </tr>\n",
              "    <tr>\n",
              "      <th>uid</th>\n",
              "      <th></th>\n",
              "    </tr>\n",
              "  </thead>\n",
              "  <tbody>\n",
              "    <tr>\n",
              "      <th>0</th>\n",
              "      <td>401</td>\n",
              "    </tr>\n",
              "    <tr>\n",
              "      <th>1</th>\n",
              "      <td>412</td>\n",
              "    </tr>\n",
              "    <tr>\n",
              "      <th>2</th>\n",
              "      <td>379</td>\n",
              "    </tr>\n",
              "    <tr>\n",
              "      <th>3</th>\n",
              "      <td>426</td>\n",
              "    </tr>\n",
              "    <tr>\n",
              "      <th>4</th>\n",
              "      <td>418</td>\n",
              "    </tr>\n",
              "    <tr>\n",
              "      <th>5</th>\n",
              "      <td>403</td>\n",
              "    </tr>\n",
              "    <tr>\n",
              "      <th>6</th>\n",
              "      <td>439</td>\n",
              "    </tr>\n",
              "    <tr>\n",
              "      <th>7</th>\n",
              "      <td>398</td>\n",
              "    </tr>\n",
              "    <tr>\n",
              "      <th>8</th>\n",
              "      <td>400</td>\n",
              "    </tr>\n",
              "    <tr>\n",
              "      <th>9</th>\n",
              "      <td>423</td>\n",
              "    </tr>\n",
              "  </tbody>\n",
              "</table>\n",
              "</div>"
            ],
            "text/plain": [
              "     docid\n",
              "uid       \n",
              "0      401\n",
              "1      412\n",
              "2      379\n",
              "3      426\n",
              "4      418\n",
              "5      403\n",
              "6      439\n",
              "7      398\n",
              "8      400\n",
              "9      423"
            ]
          },
          "metadata": {
            "tags": []
          },
          "execution_count": 14
        }
      ]
    },
    {
      "cell_type": "markdown",
      "metadata": {
        "id": "S90CND1U3kXT"
      },
      "source": [
        "Найдем среднее число ошибок на 1 задание для каждого пользователя:"
      ]
    },
    {
      "cell_type": "code",
      "metadata": {
        "colab": {
          "base_uri": "https://localhost:8080/",
          "height": 390
        },
        "id": "HNsO-T5Y3Tp-",
        "outputId": "56e9f658-f6dd-43f6-f563-ff0082ffa16f"
      },
      "source": [
        "#Объединим две таблицы по значению uid\n",
        "res = data_pivot.merge(data_pivot_uid, on=[\"uid\"])\n",
        "res.head(10)"
      ],
      "execution_count": 15,
      "outputs": [
        {
          "output_type": "execute_result",
          "data": {
            "text/html": [
              "<div>\n",
              "<style scoped>\n",
              "    .dataframe tbody tr th:only-of-type {\n",
              "        vertical-align: middle;\n",
              "    }\n",
              "\n",
              "    .dataframe tbody tr th {\n",
              "        vertical-align: top;\n",
              "    }\n",
              "\n",
              "    .dataframe thead th {\n",
              "        text-align: right;\n",
              "    }\n",
              "</style>\n",
              "<table border=\"1\" class=\"dataframe\">\n",
              "  <thead>\n",
              "    <tr style=\"text-align: right;\">\n",
              "      <th></th>\n",
              "      <th>metrica1</th>\n",
              "      <th>docid</th>\n",
              "    </tr>\n",
              "    <tr>\n",
              "      <th>uid</th>\n",
              "      <th></th>\n",
              "      <th></th>\n",
              "    </tr>\n",
              "  </thead>\n",
              "  <tbody>\n",
              "    <tr>\n",
              "      <th>0</th>\n",
              "      <td>65</td>\n",
              "      <td>401</td>\n",
              "    </tr>\n",
              "    <tr>\n",
              "      <th>1</th>\n",
              "      <td>82</td>\n",
              "      <td>412</td>\n",
              "    </tr>\n",
              "    <tr>\n",
              "      <th>2</th>\n",
              "      <td>76</td>\n",
              "      <td>379</td>\n",
              "    </tr>\n",
              "    <tr>\n",
              "      <th>3</th>\n",
              "      <td>230</td>\n",
              "      <td>426</td>\n",
              "    </tr>\n",
              "    <tr>\n",
              "      <th>4</th>\n",
              "      <td>72</td>\n",
              "      <td>418</td>\n",
              "    </tr>\n",
              "    <tr>\n",
              "      <th>5</th>\n",
              "      <td>40</td>\n",
              "      <td>403</td>\n",
              "    </tr>\n",
              "    <tr>\n",
              "      <th>6</th>\n",
              "      <td>69</td>\n",
              "      <td>439</td>\n",
              "    </tr>\n",
              "    <tr>\n",
              "      <th>7</th>\n",
              "      <td>48</td>\n",
              "      <td>398</td>\n",
              "    </tr>\n",
              "    <tr>\n",
              "      <th>8</th>\n",
              "      <td>45</td>\n",
              "      <td>400</td>\n",
              "    </tr>\n",
              "    <tr>\n",
              "      <th>9</th>\n",
              "      <td>110</td>\n",
              "      <td>423</td>\n",
              "    </tr>\n",
              "  </tbody>\n",
              "</table>\n",
              "</div>"
            ],
            "text/plain": [
              "     metrica1  docid\n",
              "uid                 \n",
              "0          65    401\n",
              "1          82    412\n",
              "2          76    379\n",
              "3         230    426\n",
              "4          72    418\n",
              "5          40    403\n",
              "6          69    439\n",
              "7          48    398\n",
              "8          45    400\n",
              "9         110    423"
            ]
          },
          "metadata": {
            "tags": []
          },
          "execution_count": 15
        }
      ]
    },
    {
      "cell_type": "code",
      "metadata": {
        "colab": {
          "base_uri": "https://localhost:8080/",
          "height": 390
        },
        "id": "c8jhM6383s9G",
        "outputId": "49ba8738-75da-4f8e-bd49-9309f7d18463"
      },
      "source": [
        "res['metrica2'] = res['metrica1'] / res['docid']\n",
        "res.head(10)"
      ],
      "execution_count": 16,
      "outputs": [
        {
          "output_type": "execute_result",
          "data": {
            "text/html": [
              "<div>\n",
              "<style scoped>\n",
              "    .dataframe tbody tr th:only-of-type {\n",
              "        vertical-align: middle;\n",
              "    }\n",
              "\n",
              "    .dataframe tbody tr th {\n",
              "        vertical-align: top;\n",
              "    }\n",
              "\n",
              "    .dataframe thead th {\n",
              "        text-align: right;\n",
              "    }\n",
              "</style>\n",
              "<table border=\"1\" class=\"dataframe\">\n",
              "  <thead>\n",
              "    <tr style=\"text-align: right;\">\n",
              "      <th></th>\n",
              "      <th>metrica1</th>\n",
              "      <th>docid</th>\n",
              "      <th>metrica2</th>\n",
              "    </tr>\n",
              "    <tr>\n",
              "      <th>uid</th>\n",
              "      <th></th>\n",
              "      <th></th>\n",
              "      <th></th>\n",
              "    </tr>\n",
              "  </thead>\n",
              "  <tbody>\n",
              "    <tr>\n",
              "      <th>0</th>\n",
              "      <td>65</td>\n",
              "      <td>401</td>\n",
              "      <td>0.162095</td>\n",
              "    </tr>\n",
              "    <tr>\n",
              "      <th>1</th>\n",
              "      <td>82</td>\n",
              "      <td>412</td>\n",
              "      <td>0.199029</td>\n",
              "    </tr>\n",
              "    <tr>\n",
              "      <th>2</th>\n",
              "      <td>76</td>\n",
              "      <td>379</td>\n",
              "      <td>0.200528</td>\n",
              "    </tr>\n",
              "    <tr>\n",
              "      <th>3</th>\n",
              "      <td>230</td>\n",
              "      <td>426</td>\n",
              "      <td>0.539906</td>\n",
              "    </tr>\n",
              "    <tr>\n",
              "      <th>4</th>\n",
              "      <td>72</td>\n",
              "      <td>418</td>\n",
              "      <td>0.172249</td>\n",
              "    </tr>\n",
              "    <tr>\n",
              "      <th>5</th>\n",
              "      <td>40</td>\n",
              "      <td>403</td>\n",
              "      <td>0.099256</td>\n",
              "    </tr>\n",
              "    <tr>\n",
              "      <th>6</th>\n",
              "      <td>69</td>\n",
              "      <td>439</td>\n",
              "      <td>0.157175</td>\n",
              "    </tr>\n",
              "    <tr>\n",
              "      <th>7</th>\n",
              "      <td>48</td>\n",
              "      <td>398</td>\n",
              "      <td>0.120603</td>\n",
              "    </tr>\n",
              "    <tr>\n",
              "      <th>8</th>\n",
              "      <td>45</td>\n",
              "      <td>400</td>\n",
              "      <td>0.112500</td>\n",
              "    </tr>\n",
              "    <tr>\n",
              "      <th>9</th>\n",
              "      <td>110</td>\n",
              "      <td>423</td>\n",
              "      <td>0.260047</td>\n",
              "    </tr>\n",
              "  </tbody>\n",
              "</table>\n",
              "</div>"
            ],
            "text/plain": [
              "     metrica1  docid  metrica2\n",
              "uid                           \n",
              "0          65    401  0.162095\n",
              "1          82    412  0.199029\n",
              "2          76    379  0.200528\n",
              "3         230    426  0.539906\n",
              "4          72    418  0.172249\n",
              "5          40    403  0.099256\n",
              "6          69    439  0.157175\n",
              "7          48    398  0.120603\n",
              "8          45    400  0.112500\n",
              "9         110    423  0.260047"
            ]
          },
          "metadata": {
            "tags": []
          },
          "execution_count": 16
        }
      ]
    },
    {
      "cell_type": "markdown",
      "metadata": {
        "id": "doShGCVE4Adf"
      },
      "source": [
        "Соответственно, чем это число выше, тем хуже асессор справляется с заданиями. \n",
        "\n",
        "Найдем асессора с максимальным значением metrica2"
      ]
    },
    {
      "cell_type": "code",
      "metadata": {
        "colab": {
          "base_uri": "https://localhost:8080/",
          "height": 111
        },
        "id": "I3wzdOEU38vU",
        "outputId": "9747c235-525b-4d0e-e63d-546afdfb0bec"
      },
      "source": [
        "res[res['metrica2'] == res['metrica2'].max()]"
      ],
      "execution_count": 17,
      "outputs": [
        {
          "output_type": "execute_result",
          "data": {
            "text/html": [
              "<div>\n",
              "<style scoped>\n",
              "    .dataframe tbody tr th:only-of-type {\n",
              "        vertical-align: middle;\n",
              "    }\n",
              "\n",
              "    .dataframe tbody tr th {\n",
              "        vertical-align: top;\n",
              "    }\n",
              "\n",
              "    .dataframe thead th {\n",
              "        text-align: right;\n",
              "    }\n",
              "</style>\n",
              "<table border=\"1\" class=\"dataframe\">\n",
              "  <thead>\n",
              "    <tr style=\"text-align: right;\">\n",
              "      <th></th>\n",
              "      <th>metrica1</th>\n",
              "      <th>docid</th>\n",
              "      <th>metrica2</th>\n",
              "    </tr>\n",
              "    <tr>\n",
              "      <th>uid</th>\n",
              "      <th></th>\n",
              "      <th></th>\n",
              "      <th></th>\n",
              "    </tr>\n",
              "  </thead>\n",
              "  <tbody>\n",
              "    <tr>\n",
              "      <th>56</th>\n",
              "      <td>236</td>\n",
              "      <td>411</td>\n",
              "      <td>0.574209</td>\n",
              "    </tr>\n",
              "  </tbody>\n",
              "</table>\n",
              "</div>"
            ],
            "text/plain": [
              "     metrica1  docid  metrica2\n",
              "uid                           \n",
              "56        236    411  0.574209"
            ]
          },
          "metadata": {
            "tags": []
          },
          "execution_count": 17
        }
      ]
    },
    {
      "cell_type": "markdown",
      "metadata": {
        "id": "hYVDxodm4VnM"
      },
      "source": [
        "Это снова оказался тот же самый пользователь."
      ]
    },
    {
      "cell_type": "code",
      "metadata": {
        "colab": {
          "base_uri": "https://localhost:8080/",
          "height": 359
        },
        "id": "FI4Cwxhk4RHb",
        "outputId": "22659b42-2ee8-4a77-97ea-c6b9958bd56c"
      },
      "source": [
        "res_pivot_sorted = pd.DataFrame(np.sort(res.values, axis=0)[::-1][:10], columns=res.columns)\n",
        "res_pivot_sorted"
      ],
      "execution_count": 18,
      "outputs": [
        {
          "output_type": "execute_result",
          "data": {
            "text/html": [
              "<div>\n",
              "<style scoped>\n",
              "    .dataframe tbody tr th:only-of-type {\n",
              "        vertical-align: middle;\n",
              "    }\n",
              "\n",
              "    .dataframe tbody tr th {\n",
              "        vertical-align: top;\n",
              "    }\n",
              "\n",
              "    .dataframe thead th {\n",
              "        text-align: right;\n",
              "    }\n",
              "</style>\n",
              "<table border=\"1\" class=\"dataframe\">\n",
              "  <thead>\n",
              "    <tr style=\"text-align: right;\">\n",
              "      <th></th>\n",
              "      <th>metrica1</th>\n",
              "      <th>docid</th>\n",
              "      <th>metrica2</th>\n",
              "    </tr>\n",
              "  </thead>\n",
              "  <tbody>\n",
              "    <tr>\n",
              "      <th>0</th>\n",
              "      <td>236.0</td>\n",
              "      <td>484.0</td>\n",
              "      <td>0.574209</td>\n",
              "    </tr>\n",
              "    <tr>\n",
              "      <th>1</th>\n",
              "      <td>230.0</td>\n",
              "      <td>481.0</td>\n",
              "      <td>0.539906</td>\n",
              "    </tr>\n",
              "    <tr>\n",
              "      <th>2</th>\n",
              "      <td>214.0</td>\n",
              "      <td>480.0</td>\n",
              "      <td>0.524297</td>\n",
              "    </tr>\n",
              "    <tr>\n",
              "      <th>3</th>\n",
              "      <td>205.0</td>\n",
              "      <td>467.0</td>\n",
              "      <td>0.519417</td>\n",
              "    </tr>\n",
              "    <tr>\n",
              "      <th>4</th>\n",
              "      <td>110.0</td>\n",
              "      <td>467.0</td>\n",
              "      <td>0.515152</td>\n",
              "    </tr>\n",
              "    <tr>\n",
              "      <th>5</th>\n",
              "      <td>108.0</td>\n",
              "      <td>467.0</td>\n",
              "      <td>0.273438</td>\n",
              "    </tr>\n",
              "    <tr>\n",
              "      <th>6</th>\n",
              "      <td>108.0</td>\n",
              "      <td>466.0</td>\n",
              "      <td>0.260047</td>\n",
              "    </tr>\n",
              "    <tr>\n",
              "      <th>7</th>\n",
              "      <td>105.0</td>\n",
              "      <td>461.0</td>\n",
              "      <td>0.257757</td>\n",
              "    </tr>\n",
              "    <tr>\n",
              "      <th>8</th>\n",
              "      <td>100.0</td>\n",
              "      <td>460.0</td>\n",
              "      <td>0.244444</td>\n",
              "    </tr>\n",
              "    <tr>\n",
              "      <th>9</th>\n",
              "      <td>99.0</td>\n",
              "      <td>460.0</td>\n",
              "      <td>0.242494</td>\n",
              "    </tr>\n",
              "  </tbody>\n",
              "</table>\n",
              "</div>"
            ],
            "text/plain": [
              "   metrica1  docid  metrica2\n",
              "0     236.0  484.0  0.574209\n",
              "1     230.0  481.0  0.539906\n",
              "2     214.0  480.0  0.524297\n",
              "3     205.0  467.0  0.519417\n",
              "4     110.0  467.0  0.515152\n",
              "5     108.0  467.0  0.273438\n",
              "6     108.0  466.0  0.260047\n",
              "7     105.0  461.0  0.257757\n",
              "8     100.0  460.0  0.244444\n",
              "9      99.0  460.0  0.242494"
            ]
          },
          "metadata": {
            "tags": []
          },
          "execution_count": 18
        }
      ]
    },
    {
      "cell_type": "code",
      "metadata": {
        "colab": {
          "base_uri": "https://localhost:8080/",
          "height": 390
        },
        "id": "1F4Eetvd66M9",
        "outputId": "3e583c8e-27d3-41ed-8e93-29c16252970d"
      },
      "source": [
        "#Выведем uid асессоров и соотношение количества ошибок к количеству заданий\n",
        "res_filter = res['metrica2'].isin(res_pivot_sorted['metrica2']) \n",
        "res[res_filter]"
      ],
      "execution_count": 19,
      "outputs": [
        {
          "output_type": "execute_result",
          "data": {
            "text/html": [
              "<div>\n",
              "<style scoped>\n",
              "    .dataframe tbody tr th:only-of-type {\n",
              "        vertical-align: middle;\n",
              "    }\n",
              "\n",
              "    .dataframe tbody tr th {\n",
              "        vertical-align: top;\n",
              "    }\n",
              "\n",
              "    .dataframe thead th {\n",
              "        text-align: right;\n",
              "    }\n",
              "</style>\n",
              "<table border=\"1\" class=\"dataframe\">\n",
              "  <thead>\n",
              "    <tr style=\"text-align: right;\">\n",
              "      <th></th>\n",
              "      <th>metrica1</th>\n",
              "      <th>docid</th>\n",
              "      <th>metrica2</th>\n",
              "    </tr>\n",
              "    <tr>\n",
              "      <th>uid</th>\n",
              "      <th></th>\n",
              "      <th></th>\n",
              "      <th></th>\n",
              "    </tr>\n",
              "  </thead>\n",
              "  <tbody>\n",
              "    <tr>\n",
              "      <th>3</th>\n",
              "      <td>230</td>\n",
              "      <td>426</td>\n",
              "      <td>0.539906</td>\n",
              "    </tr>\n",
              "    <tr>\n",
              "      <th>9</th>\n",
              "      <td>110</td>\n",
              "      <td>423</td>\n",
              "      <td>0.260047</td>\n",
              "    </tr>\n",
              "    <tr>\n",
              "      <th>56</th>\n",
              "      <td>236</td>\n",
              "      <td>411</td>\n",
              "      <td>0.574209</td>\n",
              "    </tr>\n",
              "    <tr>\n",
              "      <th>71</th>\n",
              "      <td>105</td>\n",
              "      <td>433</td>\n",
              "      <td>0.242494</td>\n",
              "    </tr>\n",
              "    <tr>\n",
              "      <th>118</th>\n",
              "      <td>205</td>\n",
              "      <td>391</td>\n",
              "      <td>0.524297</td>\n",
              "    </tr>\n",
              "    <tr>\n",
              "      <th>154</th>\n",
              "      <td>99</td>\n",
              "      <td>405</td>\n",
              "      <td>0.244444</td>\n",
              "    </tr>\n",
              "    <tr>\n",
              "      <th>234</th>\n",
              "      <td>51</td>\n",
              "      <td>99</td>\n",
              "      <td>0.515152</td>\n",
              "    </tr>\n",
              "    <tr>\n",
              "      <th>335</th>\n",
              "      <td>108</td>\n",
              "      <td>419</td>\n",
              "      <td>0.257757</td>\n",
              "    </tr>\n",
              "    <tr>\n",
              "      <th>390</th>\n",
              "      <td>214</td>\n",
              "      <td>412</td>\n",
              "      <td>0.519417</td>\n",
              "    </tr>\n",
              "    <tr>\n",
              "      <th>550</th>\n",
              "      <td>35</td>\n",
              "      <td>128</td>\n",
              "      <td>0.273438</td>\n",
              "    </tr>\n",
              "  </tbody>\n",
              "</table>\n",
              "</div>"
            ],
            "text/plain": [
              "     metrica1  docid  metrica2\n",
              "uid                           \n",
              "3         230    426  0.539906\n",
              "9         110    423  0.260047\n",
              "56        236    411  0.574209\n",
              "71        105    433  0.242494\n",
              "118       205    391  0.524297\n",
              "154        99    405  0.244444\n",
              "234        51     99  0.515152\n",
              "335       108    419  0.257757\n",
              "390       214    412  0.519417\n",
              "550        35    128  0.273438"
            ]
          },
          "metadata": {
            "tags": []
          },
          "execution_count": 19
        }
      ]
    },
    {
      "cell_type": "markdown",
      "metadata": {
        "id": "ofmN55N67oJq"
      },
      "source": [
        "Здесь топ-10 асессоров с худшим качеством выполнения заданий тоже не изменился"
      ]
    },
    {
      "cell_type": "markdown",
      "metadata": {
        "id": "OfJPE5inEa4r"
      },
      "source": [
        "Т.к. исходная задача - задача бинарной классификации, мы можем попробовать построить confusion matrix и посчитать метрики для всех асесоров. \n",
        "\n",
        "Создадим столбец со следующими результатами:\n",
        "\n",
        "TP - True Positive - столбцы jud=cjud=1\n",
        "\n",
        "FN - False Negative - jud=0 cjud=1\n",
        "\n",
        "FP - False Positive - jud=1 cjud=0\n",
        "\n",
        "TN - True Negative - jud=0 chud=0"
      ]
    },
    {
      "cell_type": "code",
      "metadata": {
        "id": "Al18__RN7jVg"
      },
      "source": [
        "data.loc[(data.jud==data.cjud) & (data.jud==1), 'pred'] = 'TP'\n",
        "data.loc[(data.jud==data.cjud) & (data.jud==0), 'pred'] = 'TN'\n",
        "data.loc[(data.jud!=data.cjud) & (data.jud==0), 'pred'] = 'FN'\n",
        "data.loc[(data.jud!=data.cjud) & (data.jud==1), 'pred'] = 'FP'"
      ],
      "execution_count": 20,
      "outputs": []
    },
    {
      "cell_type": "code",
      "metadata": {
        "colab": {
          "base_uri": "https://localhost:8080/",
          "height": 450
        },
        "id": "BU_II3zKEvLh",
        "outputId": "fb39b3a6-2f4b-4723-8b37-9efea5f2e8e5"
      },
      "source": [
        "#Группируем данные по асессорам\n",
        "assessors = data.groupby(['login', 'pred'])['pred'].count().unstack()\n",
        "assessors"
      ],
      "execution_count": 21,
      "outputs": [
        {
          "output_type": "execute_result",
          "data": {
            "text/html": [
              "<div>\n",
              "<style scoped>\n",
              "    .dataframe tbody tr th:only-of-type {\n",
              "        vertical-align: middle;\n",
              "    }\n",
              "\n",
              "    .dataframe tbody tr th {\n",
              "        vertical-align: top;\n",
              "    }\n",
              "\n",
              "    .dataframe thead th {\n",
              "        text-align: right;\n",
              "    }\n",
              "</style>\n",
              "<table border=\"1\" class=\"dataframe\">\n",
              "  <thead>\n",
              "    <tr style=\"text-align: right;\">\n",
              "      <th>pred</th>\n",
              "      <th>FN</th>\n",
              "      <th>FP</th>\n",
              "      <th>TN</th>\n",
              "      <th>TP</th>\n",
              "    </tr>\n",
              "    <tr>\n",
              "      <th>login</th>\n",
              "      <th></th>\n",
              "      <th></th>\n",
              "      <th></th>\n",
              "      <th></th>\n",
              "    </tr>\n",
              "  </thead>\n",
              "  <tbody>\n",
              "    <tr>\n",
              "      <th>assessor0</th>\n",
              "      <td>6</td>\n",
              "      <td>59</td>\n",
              "      <td>287</td>\n",
              "      <td>49</td>\n",
              "    </tr>\n",
              "    <tr>\n",
              "      <th>assessor1</th>\n",
              "      <td>4</td>\n",
              "      <td>78</td>\n",
              "      <td>289</td>\n",
              "      <td>41</td>\n",
              "    </tr>\n",
              "    <tr>\n",
              "      <th>assessor10</th>\n",
              "      <td>13</td>\n",
              "      <td>79</td>\n",
              "      <td>321</td>\n",
              "      <td>30</td>\n",
              "    </tr>\n",
              "    <tr>\n",
              "      <th>assessor100</th>\n",
              "      <td>15</td>\n",
              "      <td>68</td>\n",
              "      <td>299</td>\n",
              "      <td>35</td>\n",
              "    </tr>\n",
              "    <tr>\n",
              "      <th>assessor101</th>\n",
              "      <td>9</td>\n",
              "      <td>41</td>\n",
              "      <td>320</td>\n",
              "      <td>33</td>\n",
              "    </tr>\n",
              "    <tr>\n",
              "      <th>...</th>\n",
              "      <td>...</td>\n",
              "      <td>...</td>\n",
              "      <td>...</td>\n",
              "      <td>...</td>\n",
              "    </tr>\n",
              "    <tr>\n",
              "      <th>assessor95</th>\n",
              "      <td>10</td>\n",
              "      <td>29</td>\n",
              "      <td>349</td>\n",
              "      <td>40</td>\n",
              "    </tr>\n",
              "    <tr>\n",
              "      <th>assessor96</th>\n",
              "      <td>19</td>\n",
              "      <td>69</td>\n",
              "      <td>324</td>\n",
              "      <td>39</td>\n",
              "    </tr>\n",
              "    <tr>\n",
              "      <th>assessor97</th>\n",
              "      <td>7</td>\n",
              "      <td>33</td>\n",
              "      <td>346</td>\n",
              "      <td>37</td>\n",
              "    </tr>\n",
              "    <tr>\n",
              "      <th>assessor98</th>\n",
              "      <td>8</td>\n",
              "      <td>45</td>\n",
              "      <td>352</td>\n",
              "      <td>45</td>\n",
              "    </tr>\n",
              "    <tr>\n",
              "      <th>assessor99</th>\n",
              "      <td>10</td>\n",
              "      <td>39</td>\n",
              "      <td>333</td>\n",
              "      <td>53</td>\n",
              "    </tr>\n",
              "  </tbody>\n",
              "</table>\n",
              "<p>600 rows × 4 columns</p>\n",
              "</div>"
            ],
            "text/plain": [
              "pred         FN  FP   TN  TP\n",
              "login                       \n",
              "assessor0     6  59  287  49\n",
              "assessor1     4  78  289  41\n",
              "assessor10   13  79  321  30\n",
              "assessor100  15  68  299  35\n",
              "assessor101   9  41  320  33\n",
              "...          ..  ..  ...  ..\n",
              "assessor95   10  29  349  40\n",
              "assessor96   19  69  324  39\n",
              "assessor97    7  33  346  37\n",
              "assessor98    8  45  352  45\n",
              "assessor99   10  39  333  53\n",
              "\n",
              "[600 rows x 4 columns]"
            ]
          },
          "metadata": {
            "tags": []
          },
          "execution_count": 21
        }
      ]
    },
    {
      "cell_type": "code",
      "metadata": {
        "id": "_MS5CRGlE0Pt"
      },
      "source": [
        "#создадим основные метрики accuracy, precision, recall и f1\n",
        "assessors['accuracy'] = (assessors['TP'] + assessors['TN']) / (assessors['TP'] + assessors['TN'] + assessors['FP'] + assessors['FN'])\n",
        "assessors['recall'] = assessors['TP'] / (assessors['TP'] + assessors['FN'])\n",
        "assessors['specifity'] = assessors['TN'] / (assessors['TN'] + assessors['FP'])\n",
        "assessors['precision'] = assessors['TP'] / (assessors['TP'] + assessors['FP'])\n",
        "assessors['f1_score'] = 2 * assessors['precision'] * assessors['recall'] / (assessors['precision'] + assessors['recall'])"
      ],
      "execution_count": 22,
      "outputs": []
    },
    {
      "cell_type": "code",
      "metadata": {
        "colab": {
          "base_uri": "https://localhost:8080/"
        },
        "id": "Eq2WMXiYFCZR",
        "outputId": "9e01ad55-56ad-4c85-b74b-229a4e67e9b3"
      },
      "source": [
        "assessors.f1_score.sort_values(ascending=False).tail(10)"
      ],
      "execution_count": 23,
      "outputs": [
        {
          "output_type": "execute_result",
          "data": {
            "text/plain": [
              "login\n",
              "assessor460    0.347826\n",
              "assessor335    0.341463\n",
              "assessor354    0.333333\n",
              "assessor111    0.283186\n",
              "assessor234    0.238806\n",
              "assessor390    0.207407\n",
              "assessor118    0.189723\n",
              "assessor3      0.178571\n",
              "assessor56     0.163121\n",
              "assessor163    0.103896\n",
              "Name: f1_score, dtype: float64"
            ]
          },
          "metadata": {
            "tags": []
          },
          "execution_count": 23
        }
      ]
    },
    {
      "cell_type": "markdown",
      "metadata": {
        "id": "zZCaqSNTGtaK"
      },
      "source": [
        "В данном списке, помимо выделенных ранее, появились новые асессоры. "
      ]
    }
  ]
}